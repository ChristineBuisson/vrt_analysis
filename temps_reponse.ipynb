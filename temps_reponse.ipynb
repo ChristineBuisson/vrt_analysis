{
 "cells": [
  {
   "cell_type": "markdown",
   "metadata": {},
   "source": [
    "# Détermination des instants de changement de vitesse des véhicules"
   ]
  },
  {
   "cell_type": "markdown",
   "metadata": {},
   "source": [
    "Les bases de données sont extraites de la plateforme du département des transports des Etats-Unis (www.its.dot.gov/data)."
   ]
  },
  {
   "cell_type": "markdown",
   "metadata": {},
   "source": [
    "L'objectif est de déterminer les temsp de réponse des véhicules par rapport à un changement de vitesse du leader."
   ]
  },
  {
   "cell_type": "code",
   "execution_count": 39,
   "metadata": {},
   "outputs": [],
   "source": [
    "%matplotlib inline\n",
    "import pandas as pd\n",
    "import matplotlib.pyplot as plt\n",
    "import numpy as np\n",
    "from matplotlib.ticker import MultipleLocator, FormatStrFormatter"
   ]
  },
  {
   "cell_type": "raw",
   "metadata": {},
   "source": [
    "import findspark\n",
    "import pyspark\n",
    "from pyspark.sql import *"
   ]
  },
  {
   "cell_type": "raw",
   "metadata": {},
   "source": [
    "NUMBER_OF_THREADS_TO_USE = \"8\" #you can change it according to the features of your PC's CPU\n",
    "\n",
    "spark = SparkSession.builder \\\n",
    "    .master('local[' + NUMBER_OF_THREADS_TO_USE + ']') \\\n",
    "    .appName('pyspark_test') \\\n",
    "    .getOrCreate()\n",
    "\n",
    "sc = spark.sparkContext\n",
    "sc"
   ]
  },
  {
   "cell_type": "code",
   "execution_count": 40,
   "metadata": {},
   "outputs": [],
   "source": [
    "#on travaille avec des fichiers différentiables par leur numéro\n",
    "RunNo = [5, 6, 9, 10, 12, 13]"
   ]
  },
  {
   "cell_type": "code",
   "execution_count": 41,
   "metadata": {},
   "outputs": [],
   "source": [
    "#chargement des .csv\n",
    "for i in RunNo:\n",
    "    globals()[\"data{}\".format(i)] = pd.read_csv('data/raw/data{}.csv'.format(i), sep = ',', decimal = '.', low_memory = False)"
   ]
  },
  {
   "cell_type": "code",
   "execution_count": 42,
   "metadata": {},
   "outputs": [],
   "source": [
    "#création d'une colonne pour avoir la distance au leader pour chacun des véhicules\n",
    "#on récupérera les distances au leader de chaque véhicule aux instants de changement de réponse\n",
    "for i in RunNo:\n",
    "    globals()['data{}'.format(i)]['distToLeader_f1'] = globals()['data{}'.format(i)].follower1_radar1 \n",
    "    globals()['data{}'.format(i)]['distToLeader_f2'] = globals()['data{}'.format(i)].follower1_radar1 + globals()['data{}'.format(i)].follower2_radar1     \n",
    "    globals()['data{}'.format(i)]['distToLeader_f3'] = globals()['data{}'.format(i)].follower1_radar1 + globals()['data{}'.format(i)].follower2_radar1 + globals()['data{}'.format(i)].follower3_radar1 \n",
    "    globals()['data{}'.format(i)]['distToLeader_f4'] = globals()['data{}'.format(i)].follower1_radar1 + globals()['data{}'.format(i)].follower2_radar1 + globals()['data{}'.format(i)].follower3_radar1 + globals()['data{}'.format(i)].follower4_radar1 "
   ]
  },
  {
   "cell_type": "markdown",
   "metadata": {},
   "source": [
    "## Temps de réponse des véhicules face à un changement de vitesse"
   ]
  },
  {
   "cell_type": "code",
   "execution_count": 54,
   "metadata": {},
   "outputs": [],
   "source": [
    "#suppression des valeurs manquantes\n",
    "for i in RunNo:\n",
    "    for j in range(5):\n",
    "        if j ==0:\n",
    "            globals()['data{}'.format(i)] = globals()['data{}'.format(i)][globals()['data{}'.format(i)]\n",
    "                                                                          .leader_GPS_CARMA_speed.isna() == False]\n",
    "        else:\n",
    "            globals()['data{}'.format(i)] = globals()['data{}'.format(i)]\n",
    "            [globals()['data{}'.format(i)]['follower{}_GPS_CARMA_speed'.format(j)].isna() == False]\n"
   ]
  },
  {
   "cell_type": "code",
   "execution_count": 55,
   "metadata": {},
   "outputs": [],
   "source": [
    "#refonte de l'index\n",
    "for i in RunNo:\n",
    "    globals()[\"data{}\".format(i)] = globals()[\"data{}\".format(i)].reset_index(drop = True)"
   ]
  },
  {
   "cell_type": "code",
   "execution_count": 56,
   "metadata": {},
   "outputs": [],
   "source": [
    "#tri des valeurs par 'Time'\n",
    "for i in RunNo:\n",
    "    globals()['data{}'.format(i)] = globals()['data{}'.format(i)].sort_values(by = 'Time')"
   ]
  },
  {
   "cell_type": "code",
   "execution_count": 57,
   "metadata": {},
   "outputs": [],
   "source": [
    "#on reprend les index\n",
    "for i in RunNo:\n",
    "    globals()['data{}'.format(i)] = globals()['data{}'.format(i)].reset_index(drop = True)"
   ]
  },
  {
   "cell_type": "markdown",
   "metadata": {},
   "source": [
    "On doit non seulement prendre en compte les changements de vitesse mais aussi ne prendre en comtpe que les changements réels et non le bruit qui peut apparaître sur les données."
   ]
  },
  {
   "cell_type": "code",
   "execution_count": 58,
   "metadata": {},
   "outputs": [],
   "source": [
    "#création du df pour l'analyse statistique dont le script figure dans un autre fichier\n",
    "stat_kernel = pd.DataFrame()\n",
    "stat_kernel['id'] = []\n",
    "stat_kernel['veh_position'] = []\n",
    "stat_kernel['reaction_time'] = []\n",
    "stat_kernel['time'] = []\n",
    "stat_kernel['veh_mode'] = []"
   ]
  },
  {
   "cell_type": "markdown",
   "metadata": {},
   "source": [
    "Les données sont bruitées, on souhaite donc tout d'abord les rendre exploitables. On va donc effectuer des moyennes de vitesse sur des plages de temps choisies en fonction de la fréquence d'échantillonnage. On trace aussi les écart-types des valeurs de vitesse moyennées, ce qui pourra être utile pour travailler sur les données par la suite. Les écarts-types permettent d'avoir des informations sur les variations de vitesse."
   ]
  },
  {
   "cell_type": "code",
   "execution_count": 59,
   "metadata": {},
   "outputs": [],
   "source": [
    "#h représente la plage de données sur laquelle les valeurs de vitesse vont être moyennées\n",
    "#on choisit h = 1s, avec une fréquence de 10 Hz, ça représente 10 valeurs par seconde\n",
    "h = 10"
   ]
  },
  {
   "cell_type": "markdown",
   "metadata": {},
   "source": [
    "### Traitement des leader"
   ]
  },
  {
   "cell_type": "markdown",
   "metadata": {},
   "source": [
    "La première étape consiste à déterminer les instants de changement de réponse pour les leader qui sont à l'origine d'un changement de vitesse des suiveurs."
   ]
  },
  {
   "cell_type": "code",
   "execution_count": 60,
   "metadata": {},
   "outputs": [],
   "source": [
    "#on définit les variables moyenne et écart type\n",
    "for i in RunNo:\n",
    "    globals()['mu{}_leader'.format(i)] = []\n",
    "    globals()['sigma{}_leader'.format(i)] = []\n",
    "    for k in range(len(globals()[\"data{}\".format(i)].Time) - h):\n",
    "        #on calcule la moyenne des vitesses sur la plage [i - 10 ; i + 10]\n",
    "        globals()['mu{}_leader'.format(i)].append(np.mean([globals()[\"data{}\".format(i)].leader_GPS_CARMA_speed[j] \n",
    "                                                           for j in range(k, k + h)]))"
   ]
  },
  {
   "cell_type": "code",
   "execution_count": 62,
   "metadata": {},
   "outputs": [],
   "source": [
    "#on définit sigma pour tout élément de mu comme l'écart type des valeurs de vitesse moyennées sur la tranche de largeur h\n",
    "for i in RunNo:\n",
    "    for k in range(len(globals()[\"mu{}_leader\".format(i)]) - h):\n",
    "        globals()['sigma{}_leader'.format(i)].append(np.std([globals()[\"mu{}_leader\".format(i)][j] for j in range(k, k + h)]))\n",
    "        "
   ]
  },
  {
   "cell_type": "code",
   "execution_count": 63,
   "metadata": {},
   "outputs": [
    {
     "name": "stderr",
     "output_type": "stream",
     "text": [
      "/Users/ladino/opt/anaconda3/envs/cacc/lib/python3.7/site-packages/ipykernel_launcher.py:8: SettingWithCopyWarning: \n",
      "A value is trying to be set on a copy of a slice from a DataFrame\n",
      "\n",
      "See the caveats in the documentation: https://pandas.pydata.org/pandas-docs/stable/user_guide/indexing.html#returning-a-view-versus-a-copy\n",
      "  \n",
      "/Users/ladino/opt/anaconda3/envs/cacc/lib/python3.7/site-packages/ipykernel_launcher.py:12: SettingWithCopyWarning: \n",
      "A value is trying to be set on a copy of a slice from a DataFrame\n",
      "\n",
      "See the caveats in the documentation: https://pandas.pydata.org/pandas-docs/stable/user_guide/indexing.html#returning-a-view-versus-a-copy\n",
      "  if sys.path[0] == '':\n"
     ]
    }
   ],
   "source": [
    "#parfois, des vitesses négatives sont observées pour certains véhicules\n",
    "#on règle ce probème pour tous les véhicules du peloton d'un coup\n",
    "for i in RunNo:\n",
    "    for f in range(5):\n",
    "        if f == 0:\n",
    "            for j in range(len(globals()['data{}'.format(i)].Time)):\n",
    "                if globals()['data{}'.format(i)].leader_GPS_CARMA_speed[j] < 0:\n",
    "                    globals()['data{}'.format(i)].leader_GPS_CARMA_speed[j] = 0 \n",
    "        else:\n",
    "            for j in range(len(globals()['data{}'.format(i)].Time)):\n",
    "                if globals()['data{}'.format(i)]['follower{}_GPS_CARMA_speed'.format(f)][j] < 0:\n",
    "                    globals()['data{}'.format(i)]['follower{}_GPS_CARMA_speed'.format(f)][j] = 0 "
   ]
  },
  {
   "cell_type": "code",
   "execution_count": 64,
   "metadata": {},
   "outputs": [],
   "source": [
    "#on calcule l'écart-type global des vitesses de chaque leader\n",
    "for i in RunNo:\n",
    "    globals()['dsigma_tot{}_leader'.format(i)] = []\n",
    "    globals()['dsigma_tot{}_leader'.format(i)] = np.std([globals()['sigma{}_leader'.format(i)][j]\n",
    "                                                         - globals()['sigma{}_leader'.format(i)][j - 1] for j in range(1, len(globals()['data{}'.format(i)].Time[:-2*h]))])"
   ]
  },
  {
   "cell_type": "markdown",
   "metadata": {},
   "source": [
    "Par la suite, un changement de vitesse est caractérisé par l'enchaînement de deux états :\n",
    "- une période de stabilité doit précédé le changement de vitesse, il faut ensuite définir la durée de la stabilité ;\n",
    "- une évolution caractérisée par une variation importante de la vitesse pendant une période fixée."
   ]
  },
  {
   "cell_type": "code",
   "execution_count": 72,
   "metadata": {},
   "outputs": [],
   "source": [
    "#EVOLUTION\n",
    "#dt ne doit pas être trop grand mais assez grand pour avoir le temps d'être une vraie accélération ou décélération (1s)\n",
    "dt = 20*1\n",
    "\n",
    "#STABILITE\n",
    "#DT doit être assez grande (20s)\n",
    "DT = 20*20"
   ]
  },
  {
   "cell_type": "markdown",
   "metadata": {},
   "source": [
    "Des facteurs arrivent ensuite pour caractériser les états définis précédemment ; ils sont fonction des données."
   ]
  },
  {
   "cell_type": "code",
   "execution_count": 73,
   "metadata": {},
   "outputs": [],
   "source": [
    "#a est utilisé comme facteur pour la période de stabilité (valeur assez grande pour omettre les oscillations d'adaptation)\n",
    "a = 0.75\n",
    "#b est utilisé pour les variations pour les périodes d'évolution de vitesse\n",
    "#la valeur peut être plus faible que celle de a étant donné que les instants choisis\n",
    "#doivent donner des modifications de vitesse assez importantes pendant dt\n",
    "b = 0.8\n",
    "#c est utilisé pour qualifier la proportion de valeurs dans l'intervalle [j, j + dt] requise\n",
    "d = 0.8"
   ]
  },
  {
   "cell_type": "code",
   "execution_count": 88,
   "metadata": {},
   "outputs": [
    {
     "name": "stdout",
     "output_type": "stream",
     "text": [
      "5\n",
      "6\n",
      "9\n",
      "10\n",
      "12\n",
      "13\n"
     ]
    }
   ],
   "source": [
    "#remplissage des listes 'changement de vitesse'\n",
    "#la liste contient les instants de cahngement de vitesse du leader pour l'enregsitrement 'i'\n",
    "for i in RunNo:\n",
    "    print(i)\n",
    "    globals()['chgt_vitesse{}_leader'.format(i)] = []\n",
    "    #on souhaite aussi avoir accès à la vitesse du leader à cet instant de changement de vitesse\n",
    "    #des analyses peuvent être réalisées par rapport à la vitesse du leader par la suite\n",
    "    globals()['vitesse{}_leader'.format(i)] = []\n",
    "    inc_prov = -1\n",
    "    #on commence à DT et on finit à dt\n",
    "    for j in range(DT + 1, len(globals()['data{}'.format(i)].Time[:-2*h]) - dt):\n",
    "        #on veut savoir si une évolution est possible\n",
    "        #on doit tout d'abord observer une période stabilité pendant DT\n",
    "        #on regarde la stabilité sur sigma et non sur mu\n",
    "        if (max([abs(globals()['sigma{}_leader'.format(i)][k] - globals()['sigma{}_leader'.format(i)][k - 1])\n",
    "                 for k in range(j - DT, j)]) < a*globals()['dsigma_tot{}_leader'.format(i)]):\n",
    "            inc = 0\n",
    "            #print(j, globals()['data{}'.format(i)]['elapsed_time (s)'][j])\n",
    "            #on veut prendre en compte non pas le minimum qui est trop restrictif\n",
    "            #on cherche à avoir 90% des valeurs de l'intervalle de largeur dt qui conviennent\n",
    "            for k in range(j, j + dt):\n",
    "                if (abs(globals()['sigma{}_leader'.format(i)][k + 1] - globals()\n",
    "                        ['sigma{}_leader'.format(i)][k])) > (b*globals()['dsigma_tot{}_leader'.format(i)]):\n",
    "                    inc += 1\n",
    "            if inc > d*dt:\n",
    "                if inc_prov == -1:\n",
    "                    globals()['chgt_vitesse{}_leader'.format(i)].append(globals()['data{}'.format(i)].Time[j])\n",
    "                    globals()['vitesse{}_leader'.format(i)].append(globals()['data{}'.format(i)].leader_GPS_CARMA_speed[j])\n",
    "                    inc_prov += 1\n",
    "                else:\n",
    "                    #on supprime les changements de vitesse en fin d'enregistrements afin d'éviter de ne pas les retrouver\n",
    "                    #pour les derniers suiveurs\n",
    "                    if (globals()['data{}'.format(i)].Time[j] > globals()['chgt_vitesse{}_leader'.format(i)][inc_prov] + dt) and (globals()['data{}'.format(i)].Time[j] < (globals()['data{}'.format(i)].Time.iloc[-1] - 15)):\n",
    "                        globals()['chgt_vitesse{}_leader'.format(i)].append(globals()['data{}'.format(i)].Time[j])\n",
    "                        globals()['vitesse{}_leader'.format(i)].append(globals()['data{}'.format(i)].leader_GPS_CARMA_speed[j])\n",
    "                        inc_prov += 1"
   ]
  },
  {
   "cell_type": "markdown",
   "metadata": {},
   "source": [
    "### Traitement pour les suiveurs"
   ]
  },
  {
   "cell_type": "markdown",
   "metadata": {},
   "source": [
    "On effectue le même travail pour les suiveurs, à la différence prêt que pour détecter un changement de vitesse pour un suiveur, il faut que celui-ci existe pour le leader."
   ]
  },
  {
   "cell_type": "code",
   "execution_count": 84,
   "metadata": {},
   "outputs": [],
   "source": [
    "#on définit les variables moyenne et écart type\n",
    "for i in RunNo:\n",
    "    for j in range(1, 5):\n",
    "        globals()['mu{}_follower{}'.format(i, j)] = []\n",
    "        globals()['sigma{}_follower{}'.format(i, j)] = []\n",
    "        for k in range(len(globals()[\"data{}\".format(i)].Time) - h):\n",
    "            #on calcule la moyenne des vitesses sur la plage [i - 10 ; i + 10]\n",
    "            globals()['mu{}_follower{}'.format(i, j)].append(np.mean([globals()[\"data{}\".format(i)]\n",
    "                                                                      ['follower{}_GPS_CARMA_speed'.format(j)][l] \n",
    "                                                                      for l in range(k, k + h)]))"
   ]
  },
  {
   "cell_type": "code",
   "execution_count": 19,
   "metadata": {},
   "outputs": [],
   "source": [
    "#on définit sigma pour tout élément de mu comme l'écart type des valeurs de vitesse moyennées sur la tranche de largeur h\n",
    "for i in RunNo:\n",
    "    for j in range(1, 5):\n",
    "        for k in range(len(globals()[\"mu{}_follower{}\".format(i, j)]) - h):\n",
    "            globals()['sigma{}_follower{}'.format(i, j)].append(np.std([globals()[\"mu{}_follower{}\".format(i, j)][l] \n",
    "                                                                        for l in range(k, k + h)]))\n",
    "        "
   ]
  },
  {
   "cell_type": "code",
   "execution_count": 20,
   "metadata": {},
   "outputs": [],
   "source": [
    "for i in RunNo:\n",
    "    for j in range(1, 5):\n",
    "        globals()['dsigma_tot{}_follower{}'.format(i, j)] = []\n",
    "        globals()['dsigma_tot{}_follower{}'.format(i, j)] = np.std([globals()['sigma{}_follower{}'.format(i, j)][k] - globals()['sigma{}_follower{}'.format(i, j)][k - 1] for k in range(1, len(globals()['data{}'.format(i)].Time[:-2*h]))])"
   ]
  },
  {
   "cell_type": "code",
   "execution_count": 21,
   "metadata": {},
   "outputs": [
    {
     "name": "stdout",
     "output_type": "stream",
     "text": [
      "5\n",
      "6\n",
      "9\n",
      "10\n",
      "12\n",
      "13\n"
     ]
    }
   ],
   "source": [
    "#remplissage des listes 'changement de vitesse'\n",
    "i_loc = 0\n",
    "for i in RunNo:\n",
    "    print(i)\n",
    "    for f in range(1, 5):\n",
    "        globals()['chgt_vitesse{}_follower{}'.format(i, f)] = []\n",
    "        #on définit aussi la liste des écarts au leader et des écarts au prédécesseur pour des éventuelles analyses\n",
    "        globals()['ecart_position_leader{}_follower{}'.format(i, f)] = []\n",
    "        globals()['ecart_position_predec{}_follower{}'.format(i, f)] = []\n",
    "        inc_prov = -1\n",
    "        leader = 0\n",
    "        #on commence à DT et on finit à dt\n",
    "        for j in range(DT + 1, len(globals()['data{}'.format(i)].Time[:-2*h]) - dt):\n",
    "            #on ne prendra en compte qu'un nombre fini de changements de vitesse en fonction de la taille de la liste\n",
    "            #des changements de vitesse du leader\n",
    "            if leader < len(globals()['chgt_vitesse{}_leader'.format(i)]):\n",
    "                #on compare tout de suite à l'élément de la liste du leader afin de ne pas faire des itérations inutiles\n",
    "                #et gagner en temps de calcul\n",
    "                #on vérifie aussi que l'instant qu'on s'apprête à prendre ne se trouve pas à une distance trop éloignée\n",
    "                #du leader, sinon on passe au suivant\n",
    "                if globals()['data{}'.format(i)].Time[j] > globals()['chgt_vitesse{}_leader'.format(i)][leader] and (globals()['data{}'.format(i)].\n",
    "                                                                                                                     Time[j] < globals()['chgt_vitesse{}_leader'.format(i)][leader] + 20):\n",
    "                    #on n'a pas besoin d'observer la période de stabilité car on raisonne par rapport au leader\n",
    "                    #on cherche le premier instant à partir duquel un changement notable de vitesse se produit\n",
    "                    #on peut donc utiliser la comparaison du différentiel de sigma à un indicateur\n",
    "                    if globals()['sigma{}_follower{}'.format(i, f)][j + 1] - globals()['sigma{}_follower{}'.\n",
    "                                                                                       format(i, f)][j] > 0.5*b*globals()['dsigma_tot{}_follower{}'.format(i, f)]:\n",
    "                        #on peut garder quand même la condition sur la durée du changement de vitesse afin de ne pas prendre\n",
    "                        #un bruit qui ne serait pas un changement de vitesse\n",
    "                        inc = 0\n",
    "                        for k in range(j, j + dt):\n",
    "                            if abs(globals()['sigma{}_follower{}'.format(i, f)][k + 1] - globals()['sigma{}_follower{}'.\n",
    "                                                                                                   format(i, f)][k]) > 0.5*b*globals()['dsigma_tot{}_follower{}'.format(i, f)]:\n",
    "                                inc += 1\n",
    "                        if inc >= 0.75*d*dt:\n",
    "                            if inc_prov == -1:\n",
    "                                globals()['chgt_vitesse{}_follower{}'.format(i, f)].append(globals()['data{}'.format(i)].Time[j])\n",
    "                                globals()['ecart_position_leader{}_follower{}'.format(i, f)].append(globals()['data{}'.format(i)]['distToLeader_f{}'.format(f)][j])\n",
    "                                globals()['ecart_position_predec{}_follower{}'.format(i, f)].append(globals()['data{}'.format(i)]['follower{}_radar1'.format(f)][j])\n",
    "                                inc_prov += 1\n",
    "                                #stat_kernel\n",
    "                                stat_kernel.loc[i_loc] = ['{}_{}'.format(i, f), f, globals()['data{}'.format(i)].\n",
    "                                                          Time[j] - globals()['chgt_vitesse{}_leader'.format(i)][leader], globals()['data{}'.format(i)].Time[j], 1]\n",
    "                                leader += 1\n",
    "                                i_loc += 1\n",
    "                            else:\n",
    "                                if globals()['data{}'.format(i)].Time[j] > globals()['chgt_vitesse{}_follower{}'.format(i, f)][inc_prov] + dt:\n",
    "                                    globals()['chgt_vitesse{}_follower{}'.format(i, f)].append(globals()['data{}'.format(i)].Time[j])\n",
    "                                    globals()['ecart_position_leader{}_follower{}'.format(i, f)].append(globals()['data{}'.format(i)]['distToLeader_f{}'.format(f)][j])\n",
    "                                    globals()['ecart_position_predec{}_follower{}'.format(i, f)].append(globals()['data{}'.format(i)]['follower{}_radar1'.format(f)][j])\n",
    "                                    inc_prov += 1\n",
    "                                    #stat_kernel\n",
    "                                    stat_kernel.loc[i_loc] = ['{}_{}'.format(i, f), f, globals()['data{}'.format(i)].\n",
    "                                                              Time[j] - globals()['chgt_vitesse{}_leader'.format(i)][leader], globals()['data{}'.format(i)].Time[j], 1]\n",
    "                                    leader += 1\n",
    "                                    i_loc += 1\n",
    "                elif globals()['data{}'.format(i)].Time[j] > globals()['chgt_vitesse{}_leader'.format(i)][leader] + 20:\n",
    "                    globals()['chgt_vitesse{}_follower{}'.format(i, f)].append(-1)\n",
    "                    globals()['ecart_position_leader{}_follower{}'.format(i, f)].append(-1)\n",
    "                    globals()['ecart_position_predec{}_follower{}'.format(i, f)].append(-1)\n",
    "                    leader += 1"
   ]
  },
  {
   "cell_type": "markdown",
   "metadata": {},
   "source": [
    "# Enregistrement en .csv"
   ]
  },
  {
   "cell_type": "code",
   "execution_count": 44,
   "metadata": {},
   "outputs": [],
   "source": [
    "stat_kernel.to_csv('stat_kernel_CARMA.csv', index = False)"
   ]
  },
  {
   "cell_type": "code",
   "execution_count": null,
   "metadata": {},
   "outputs": [],
   "source": []
  }
 ],
 "metadata": {
  "kernelspec": {
   "display_name": "Transport Findings",
   "language": "python",
   "name": "ccac"
  },
  "language_info": {
   "codemirror_mode": {
    "name": "ipython",
    "version": 3
   },
   "file_extension": ".py",
   "mimetype": "text/x-python",
   "name": "python",
   "nbconvert_exporter": "python",
   "pygments_lexer": "ipython3",
   "version": "3.7.9"
  }
 },
 "nbformat": 4,
 "nbformat_minor": 4
}
