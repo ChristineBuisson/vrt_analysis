{
 "cells": [
  {
   "cell_type": "markdown",
   "metadata": {},
   "source": [
    "# Tracer les profils en fonction du temps de réponse"
   ]
  },
  {
   "cell_type": "code",
   "execution_count": 1,
   "metadata": {},
   "outputs": [],
   "source": [
    "%matplotlib inline\n",
    "import pandas as pd\n",
    "import matplotlib.pyplot as plt\n",
    "import numpy as np\n",
    "from matplotlib.ticker import MultipleLocator, FormatStrFormatter\n",
    "from sklearn.linear_model import LinearRegression\n",
    "import seaborn as sns\n",
    "from scipy import stats"
   ]
  },
  {
   "cell_type": "raw",
   "metadata": {},
   "source": [
    "import findspark\n",
    "import pyspark\n",
    "from pyspark.sql import *"
   ]
  },
  {
   "cell_type": "raw",
   "metadata": {},
   "source": [
    "NUMBER_OF_THREADS_TO_USE = \"8\" #you can change it according to the features of your PC's CPU\n",
    "\n",
    "spark = SparkSession.builder \\\n",
    "    .master('local[' + NUMBER_OF_THREADS_TO_USE + ']') \\\n",
    "    .appName('pyspark_test') \\\n",
    "    .getOrCreate()\n",
    "\n",
    "sc = spark.sparkContext\n",
    "sc"
   ]
  },
  {
   "cell_type": "code",
   "execution_count": 2,
   "metadata": {},
   "outputs": [],
   "source": [
    "RunNo = [5, 6, 9, 10, 12, 13]"
   ]
  },
  {
   "cell_type": "code",
   "execution_count": 3,
   "metadata": {},
   "outputs": [],
   "source": [
    "tab_bon = [28, 29, 30, 49, 50, 51, 52, 53, 68, 69, 70, 71, 72]"
   ]
  },
  {
   "cell_type": "code",
   "execution_count": 4,
   "metadata": {},
   "outputs": [],
   "source": [
    "Run = RunNo + tab_bon"
   ]
  },
  {
   "cell_type": "raw",
   "metadata": {},
   "source": [
    "for i in Run:\n",
    "    globals()[\"data{}\".format(i)] = pd.read_csv('data{}_mieux.csv'.format(i), sep = ',', decimal = '.', low_memory = False)"
   ]
  },
  {
   "cell_type": "markdown",
   "metadata": {},
   "source": [
    "Les df correspondant à l'ACC contiennent des 'NaN' car les valeurs incohérentes ont été supprimées."
   ]
  },
  {
   "cell_type": "code",
   "execution_count": 6,
   "metadata": {},
   "outputs": [],
   "source": [
    "#temps de réponse par rapport au leader\n",
    "df_tps_reponse_leader_CARMA = pd.read_csv('df_tps_reponse_leader_CARMA.csv', sep = ',', decimal = '.', low_memory = False)\n",
    "df_tps_reponse_leader_CACC_proof = pd.read_csv('df_tps_reponse_leader_CACC.csv', sep = ',', decimal = '.', low_memory = False)\n",
    "df_tps_reponse_leader_ACC = pd.read_csv('df_tps_reponse_leader_ACC.csv', sep = ',', decimal = '.', low_memory = False)\n",
    "\n",
    "#temps de réponse par rapport au prédécesseur\n",
    "df_tps_reponse_predec_CARMA = pd.read_csv('df_tps_reponse_predec_CARMA.csv', sep = ',', decimal = '.', low_memory = False)\n",
    "df_tps_reponse_predec_CACC_proof = pd.read_csv('df_tps_reponse_predec_CACC.csv', sep = ',', decimal = '.', low_memory = False)\n",
    "df_tps_reponse_predec_ACC = pd.read_csv('df_tps_reponse_predec_ACC.csv', sep = ',', decimal = '.', low_memory = False)"
   ]
  },
  {
   "cell_type": "code",
   "execution_count": 7,
   "metadata": {},
   "outputs": [],
   "source": [
    "#vitesse du leader\n",
    "df_vitesse_CARMA = pd.read_csv('df_vitesse_leader_CARMA.csv', sep = ',', decimal = '.', low_memory = False)\n",
    "df_vitesse_CACC_proof = pd.read_csv('df_vitesse_leader_CACC.csv', sep = ',', decimal = '.', low_memory = False)\n",
    "df_vitesse_ACC = pd.read_csv('df_vitesse_leader_ACC.csv', sep = ',', decimal = '.', low_memory = False)"
   ]
  },
  {
   "cell_type": "code",
   "execution_count": 8,
   "metadata": {},
   "outputs": [],
   "source": [
    "#vitesse au leader\n",
    "df_ecart_position_leader_CARMA = pd.read_csv('df_ecart_position_leader_CARMA.csv', sep = ',', decimal = '.', low_memory = False)\n",
    "df_ecart_position_leader_CACC_proof = pd.read_csv('df_ecart_position_leader_CACC.csv', sep = ',', decimal = '.', low_memory = False)\n",
    "df_ecart_position_leader_ACC = pd.read_csv('df_ecart_position_leader_ACC.csv', sep = ',', decimal = '.', low_memory = False)\n",
    "\n",
    "#vitesse au prédécesseur\n",
    "df_ecart_position_predec_CARMA = pd.read_csv('df_ecart_position_predec_CARMA.csv', sep = ',', decimal = '.', low_memory = False)\n",
    "df_ecart_position_predec_CACC_proof = pd.read_csv('df_ecart_position_predec_CACC.csv', sep = ',', decimal = '.', low_memory = False)\n",
    "df_ecart_position_predec_ACC = pd.read_csv('df_ecart_position_predec_ACC.csv', sep = ',', decimal = '.', low_memory = False)"
   ]
  },
  {
   "cell_type": "code",
   "execution_count": 10,
   "metadata": {},
   "outputs": [
    {
     "data": {
      "text/html": [
       "<div>\n",
       "<style scoped>\n",
       "    .dataframe tbody tr th:only-of-type {\n",
       "        vertical-align: middle;\n",
       "    }\n",
       "\n",
       "    .dataframe tbody tr th {\n",
       "        vertical-align: top;\n",
       "    }\n",
       "\n",
       "    .dataframe thead th {\n",
       "        text-align: right;\n",
       "    }\n",
       "</style>\n",
       "<table border=\"1\" class=\"dataframe\">\n",
       "  <thead>\n",
       "    <tr style=\"text-align: right;\">\n",
       "      <th></th>\n",
       "      <th>F</th>\n",
       "      <th>follower</th>\n",
       "      <th>chgt1</th>\n",
       "      <th>chgt2</th>\n",
       "      <th>chgt3</th>\n",
       "      <th>chgt4</th>\n",
       "      <th>chgt5</th>\n",
       "      <th>chgt6</th>\n",
       "      <th>chgt7</th>\n",
       "      <th>chgt8</th>\n",
       "      <th>...</th>\n",
       "      <th>chgt5</th>\n",
       "      <th>chgt6</th>\n",
       "      <th>chgt7</th>\n",
       "      <th>chgt8</th>\n",
       "      <th>chgt9</th>\n",
       "      <th>chgt10</th>\n",
       "      <th>chgt11</th>\n",
       "      <th>chgt12</th>\n",
       "      <th>chgt13</th>\n",
       "      <th>chgt14</th>\n",
       "    </tr>\n",
       "  </thead>\n",
       "  <tbody>\n",
       "    <tr>\n",
       "      <th>0</th>\n",
       "      <td>1</td>\n",
       "      <td>1</td>\n",
       "      <td>0.40</td>\n",
       "      <td>0.65</td>\n",
       "      <td>0.30</td>\n",
       "      <td>1.75</td>\n",
       "      <td>0.05</td>\n",
       "      <td>0.10</td>\n",
       "      <td>0.05</td>\n",
       "      <td>1.75</td>\n",
       "      <td>...</td>\n",
       "      <td>0.1</td>\n",
       "      <td>0.4</td>\n",
       "      <td>0.4</td>\n",
       "      <td>0.3</td>\n",
       "      <td>0.3</td>\n",
       "      <td>0.6</td>\n",
       "      <td>0.5</td>\n",
       "      <td>1.4</td>\n",
       "      <td>1.5</td>\n",
       "      <td>1.1</td>\n",
       "    </tr>\n",
       "    <tr>\n",
       "      <th>1</th>\n",
       "      <td>2</td>\n",
       "      <td>2</td>\n",
       "      <td>2.75</td>\n",
       "      <td>-0.20</td>\n",
       "      <td>0.00</td>\n",
       "      <td>0.65</td>\n",
       "      <td>1.60</td>\n",
       "      <td>-0.05</td>\n",
       "      <td>0.05</td>\n",
       "      <td>1.95</td>\n",
       "      <td>...</td>\n",
       "      <td>0.0</td>\n",
       "      <td>0.2</td>\n",
       "      <td>-0.1</td>\n",
       "      <td>0.0</td>\n",
       "      <td>1.6</td>\n",
       "      <td>0.0</td>\n",
       "      <td>0.1</td>\n",
       "      <td>2.2</td>\n",
       "      <td>2.4</td>\n",
       "      <td>2.5</td>\n",
       "    </tr>\n",
       "    <tr>\n",
       "      <th>2</th>\n",
       "      <td>3</td>\n",
       "      <td>3</td>\n",
       "      <td>4.60</td>\n",
       "      <td>1.30</td>\n",
       "      <td>1.60</td>\n",
       "      <td>2.90</td>\n",
       "      <td>1.55</td>\n",
       "      <td>0.20</td>\n",
       "      <td>0.15</td>\n",
       "      <td>0.80</td>\n",
       "      <td>...</td>\n",
       "      <td>0.9</td>\n",
       "      <td>-0.5</td>\n",
       "      <td>-0.2</td>\n",
       "      <td>-0.2</td>\n",
       "      <td>1.7</td>\n",
       "      <td>0.0</td>\n",
       "      <td>-0.2</td>\n",
       "      <td>-0.4</td>\n",
       "      <td>1.5</td>\n",
       "      <td>1.7</td>\n",
       "    </tr>\n",
       "    <tr>\n",
       "      <th>3</th>\n",
       "      <td>4</td>\n",
       "      <td>4</td>\n",
       "      <td>-2.95</td>\n",
       "      <td>-1.00</td>\n",
       "      <td>-1.35</td>\n",
       "      <td>1.50</td>\n",
       "      <td>3.65</td>\n",
       "      <td>0.15</td>\n",
       "      <td>4.55</td>\n",
       "      <td>1.50</td>\n",
       "      <td>...</td>\n",
       "      <td>-0.2</td>\n",
       "      <td>0.5</td>\n",
       "      <td>0.2</td>\n",
       "      <td>0.1</td>\n",
       "      <td>1.5</td>\n",
       "      <td>0.1</td>\n",
       "      <td>-0.1</td>\n",
       "      <td>2.5</td>\n",
       "      <td>2.3</td>\n",
       "      <td>2.3</td>\n",
       "    </tr>\n",
       "  </tbody>\n",
       "</table>\n",
       "<p>4 rows × 36 columns</p>\n",
       "</div>"
      ],
      "text/plain": [
       "   F  follower  chgt1  chgt2  chgt3  chgt4  chgt5  chgt6  chgt7  chgt8  ...  \\\n",
       "0  1         1   0.40   0.65   0.30   1.75   0.05   0.10   0.05   1.75  ...   \n",
       "1  2         2   2.75  -0.20   0.00   0.65   1.60  -0.05   0.05   1.95  ...   \n",
       "2  3         3   4.60   1.30   1.60   2.90   1.55   0.20   0.15   0.80  ...   \n",
       "3  4         4  -2.95  -1.00  -1.35   1.50   3.65   0.15   4.55   1.50  ...   \n",
       "\n",
       "   chgt5  chgt6  chgt7  chgt8  chgt9  chgt10  chgt11  chgt12  chgt13  chgt14  \n",
       "0    0.1    0.4    0.4    0.3    0.3     0.6     0.5     1.4     1.5     1.1  \n",
       "1    0.0    0.2   -0.1    0.0    1.6     0.0     0.1     2.2     2.4     2.5  \n",
       "2    0.9   -0.5   -0.2   -0.2    1.7     0.0    -0.2    -0.4     1.5     1.7  \n",
       "3   -0.2    0.5    0.2    0.1    1.5     0.1    -0.1     2.5     2.3     2.3  \n",
       "\n",
       "[4 rows x 36 columns]"
      ]
     },
     "execution_count": 10,
     "metadata": {},
     "output_type": "execute_result"
    }
   ],
   "source": [
    "df_tps_reponse_predec_CACC"
   ]
  },
  {
   "cell_type": "markdown",
   "metadata": {},
   "source": [
    "## Vitesse"
   ]
  },
  {
   "cell_type": "code",
   "execution_count": 71,
   "metadata": {},
   "outputs": [],
   "source": [
    "#par rapport au leader\n",
    "df_vitesse_CACC = pd.DataFrame()\n",
    "df_vitesse_CACC['F'] = np.arange(1, 5)\n",
    "df_vitesse_CACC = pd.concat([df_vitesse_CACC, df_vitesse_CACC_proof, df_vitesse_CARMA], axis = 1)"
   ]
  },
  {
   "cell_type": "code",
   "execution_count": 72,
   "metadata": {},
   "outputs": [
    {
     "data": {
      "text/html": [
       "<div>\n",
       "<style scoped>\n",
       "    .dataframe tbody tr th:only-of-type {\n",
       "        vertical-align: middle;\n",
       "    }\n",
       "\n",
       "    .dataframe tbody tr th {\n",
       "        vertical-align: top;\n",
       "    }\n",
       "\n",
       "    .dataframe thead th {\n",
       "        text-align: right;\n",
       "    }\n",
       "</style>\n",
       "<table border=\"1\" class=\"dataframe\">\n",
       "  <thead>\n",
       "    <tr style=\"text-align: right;\">\n",
       "      <th></th>\n",
       "      <th>F</th>\n",
       "      <th>follower</th>\n",
       "      <th>chgt1</th>\n",
       "      <th>chgt2</th>\n",
       "      <th>chgt3</th>\n",
       "      <th>chgt4</th>\n",
       "      <th>chgt5</th>\n",
       "      <th>chgt6</th>\n",
       "      <th>chgt7</th>\n",
       "      <th>chgt8</th>\n",
       "      <th>...</th>\n",
       "      <th>chgt5</th>\n",
       "      <th>chgt6</th>\n",
       "      <th>chgt7</th>\n",
       "      <th>chgt8</th>\n",
       "      <th>chgt9</th>\n",
       "      <th>chgt10</th>\n",
       "      <th>chgt11</th>\n",
       "      <th>chgt12</th>\n",
       "      <th>chgt13</th>\n",
       "      <th>chgt14</th>\n",
       "    </tr>\n",
       "  </thead>\n",
       "  <tbody>\n",
       "    <tr>\n",
       "      <th>0</th>\n",
       "      <td>1</td>\n",
       "      <td>1</td>\n",
       "      <td>26.34</td>\n",
       "      <td>19.76</td>\n",
       "      <td>26.34</td>\n",
       "      <td>0.0</td>\n",
       "      <td>26.360001</td>\n",
       "      <td>19.74</td>\n",
       "      <td>26.299999</td>\n",
       "      <td>0.0</td>\n",
       "      <td>...</td>\n",
       "      <td>0.001</td>\n",
       "      <td>20.056</td>\n",
       "      <td>26.64</td>\n",
       "      <td>20.247</td>\n",
       "      <td>0.0</td>\n",
       "      <td>20.155</td>\n",
       "      <td>26.675</td>\n",
       "      <td>0.0</td>\n",
       "      <td>20.08</td>\n",
       "      <td>26.702</td>\n",
       "    </tr>\n",
       "    <tr>\n",
       "      <th>1</th>\n",
       "      <td>2</td>\n",
       "      <td>2</td>\n",
       "      <td>26.34</td>\n",
       "      <td>19.76</td>\n",
       "      <td>26.34</td>\n",
       "      <td>0.0</td>\n",
       "      <td>26.360001</td>\n",
       "      <td>19.74</td>\n",
       "      <td>26.299999</td>\n",
       "      <td>0.0</td>\n",
       "      <td>...</td>\n",
       "      <td>0.001</td>\n",
       "      <td>20.056</td>\n",
       "      <td>26.64</td>\n",
       "      <td>20.247</td>\n",
       "      <td>0.0</td>\n",
       "      <td>20.155</td>\n",
       "      <td>26.675</td>\n",
       "      <td>0.0</td>\n",
       "      <td>20.08</td>\n",
       "      <td>26.702</td>\n",
       "    </tr>\n",
       "    <tr>\n",
       "      <th>2</th>\n",
       "      <td>3</td>\n",
       "      <td>3</td>\n",
       "      <td>26.34</td>\n",
       "      <td>19.76</td>\n",
       "      <td>26.34</td>\n",
       "      <td>0.0</td>\n",
       "      <td>26.360001</td>\n",
       "      <td>19.74</td>\n",
       "      <td>26.299999</td>\n",
       "      <td>0.0</td>\n",
       "      <td>...</td>\n",
       "      <td>0.001</td>\n",
       "      <td>20.056</td>\n",
       "      <td>26.64</td>\n",
       "      <td>20.247</td>\n",
       "      <td>0.0</td>\n",
       "      <td>20.155</td>\n",
       "      <td>26.675</td>\n",
       "      <td>0.0</td>\n",
       "      <td>20.08</td>\n",
       "      <td>26.702</td>\n",
       "    </tr>\n",
       "    <tr>\n",
       "      <th>3</th>\n",
       "      <td>4</td>\n",
       "      <td>4</td>\n",
       "      <td>26.34</td>\n",
       "      <td>19.76</td>\n",
       "      <td>26.34</td>\n",
       "      <td>0.0</td>\n",
       "      <td>26.360001</td>\n",
       "      <td>19.74</td>\n",
       "      <td>26.299999</td>\n",
       "      <td>0.0</td>\n",
       "      <td>...</td>\n",
       "      <td>0.001</td>\n",
       "      <td>20.056</td>\n",
       "      <td>26.64</td>\n",
       "      <td>20.247</td>\n",
       "      <td>0.0</td>\n",
       "      <td>20.155</td>\n",
       "      <td>26.675</td>\n",
       "      <td>0.0</td>\n",
       "      <td>20.08</td>\n",
       "      <td>26.702</td>\n",
       "    </tr>\n",
       "  </tbody>\n",
       "</table>\n",
       "<p>4 rows × 36 columns</p>\n",
       "</div>"
      ],
      "text/plain": [
       "   F  follower  chgt1  chgt2  chgt3  chgt4      chgt5  chgt6      chgt7  \\\n",
       "0  1         1  26.34  19.76  26.34    0.0  26.360001  19.74  26.299999   \n",
       "1  2         2  26.34  19.76  26.34    0.0  26.360001  19.74  26.299999   \n",
       "2  3         3  26.34  19.76  26.34    0.0  26.360001  19.74  26.299999   \n",
       "3  4         4  26.34  19.76  26.34    0.0  26.360001  19.74  26.299999   \n",
       "\n",
       "   chgt8  ...  chgt5   chgt6  chgt7   chgt8  chgt9  chgt10  chgt11  chgt12  \\\n",
       "0    0.0  ...  0.001  20.056  26.64  20.247    0.0  20.155  26.675     0.0   \n",
       "1    0.0  ...  0.001  20.056  26.64  20.247    0.0  20.155  26.675     0.0   \n",
       "2    0.0  ...  0.001  20.056  26.64  20.247    0.0  20.155  26.675     0.0   \n",
       "3    0.0  ...  0.001  20.056  26.64  20.247    0.0  20.155  26.675     0.0   \n",
       "\n",
       "   chgt13  chgt14  \n",
       "0   20.08  26.702  \n",
       "1   20.08  26.702  \n",
       "2   20.08  26.702  \n",
       "3   20.08  26.702  \n",
       "\n",
       "[4 rows x 36 columns]"
      ]
     },
     "execution_count": 72,
     "metadata": {},
     "output_type": "execute_result"
    }
   ],
   "source": [
    "df_vitesse_CACC"
   ]
  },
  {
   "cell_type": "code",
   "execution_count": 73,
   "metadata": {},
   "outputs": [],
   "source": [
    "#suppression de la colonne 'follower' répétée\n",
    "#par rapport au leader\n",
    "df_tps_reponse_leader_CACC = df_tps_reponse_leader_CACC.drop(df_tps_reponse_leader_CACC.columns[21], axis='columns')\n",
    "df_tps_reponse_predec_CACC = df_tps_reponse_predec_CACC.drop(df_tps_reponse_predec_CACC.columns[21], axis='columns')\n",
    "df_vitesse_CACC = df_vitesse_CACC.drop(df_vitesse_CACC.columns[21], axis='columns')"
   ]
  },
  {
   "cell_type": "code",
   "execution_count": 14,
   "metadata": {},
   "outputs": [],
   "source": [
    "colonnes = list(df_tps_reponse_leader_CACC.columns)"
   ]
  },
  {
   "cell_type": "code",
   "execution_count": 15,
   "metadata": {},
   "outputs": [],
   "source": [
    "for i in range(1, len(colonnes)):\n",
    "    colonnes[i] = 'chgt{}'.format(i)"
   ]
  },
  {
   "cell_type": "code",
   "execution_count": 16,
   "metadata": {},
   "outputs": [
    {
     "data": {
      "text/plain": [
       "34"
      ]
     },
     "execution_count": 16,
     "metadata": {},
     "output_type": "execute_result"
    }
   ],
   "source": [
    "len(df_vitesse_CACC.columns)"
   ]
  },
  {
   "cell_type": "code",
   "execution_count": 17,
   "metadata": {},
   "outputs": [],
   "source": [
    "df_tps_reponse_leader_CACC.columns = colonnes\n",
    "df_tps_reponse_predec_CACC.columns = colonnes\n",
    "df_vitesse_CACC.columns = colonnes"
   ]
  },
  {
   "cell_type": "code",
   "execution_count": 18,
   "metadata": {},
   "outputs": [
    {
     "name": "stderr",
     "output_type": "stream",
     "text": [
      "No handles with labels found to put in legend.\n"
     ]
    },
    {
     "data": {
      "image/png": "[encoded data removed]",
      "text/plain": [
       "<Figure size 432x288 with 1 Axes>"
      ]
     },
     "metadata": {
      "needs_background": "light"
     },
     "output_type": "display_data"
    }
   ],
   "source": [
    "#tracé des temps de réponse par rapport au leader pour chacun des véhicules pour les enregistrements CACC\n",
    "#choix du follower\n",
    "fig = plt.figure()\n",
    "ax = fig.add_axes([0,0,1,1])\n",
    "for j in range(1, len(df_tps_reponse_leader_CACC.columns)):\n",
    "    ax.plot(df_vitesse_CACC['chgt{}'.format(j)], df_tps_reponse_leader_CACC['chgt{}'.format(j)], '^r', markersize = 1.5)\n",
    "for j in range(1, len(df_tps_reponse_leader_ACC.columns)):\n",
    "    ax.plot(df_vitesse_ACC['chgt{}'.format(j)], df_tps_reponse_leader_ACC['chgt{}'.format(j)], 'vb', markersize = 1.5)\n",
    "ax.set_xlabel(\"Vitesse du leader (m/s)\")\n",
    "ax.xaxis.set_major_locator(MultipleLocator(2))\n",
    "ax.xaxis.set_minor_locator(MultipleLocator(0.5))\n",
    "ax.set_ylabel(\"Temps de réponse (s)\")\n",
    "ax.set_title(\"Temps de réponse de chacun des véhicules en fonction de la vitesse du leader\")\n",
    "ax.legend(loc='best', frameon=False)\n",
    "plt.show()"
   ]
  },
  {
   "cell_type": "markdown",
   "metadata": {},
   "source": [
    "## Ecart au leader"
   ]
  },
  {
   "cell_type": "markdown",
   "metadata": {},
   "source": [
    "L'écart au leader est pris pour le temps de réponse par rapport au leader."
   ]
  },
  {
   "cell_type": "code",
   "execution_count": 19,
   "metadata": {},
   "outputs": [],
   "source": [
    "#par rapport au leader\n",
    "df_ecart_position_leader_CACC = pd.DataFrame()\n",
    "df_ecart_position_leader_CACC['F'] = np.arange(1, 5)\n",
    "df_ecart_position_leader_CACC = pd.concat([df_ecart_position_leader_CACC, df_ecart_position_leader_CACC_proof, df_ecart_position_leader_CARMA], axis = 1)"
   ]
  },
  {
   "cell_type": "code",
   "execution_count": 20,
   "metadata": {},
   "outputs": [],
   "source": [
    "#suppression de la colonne 'follower' répétée\n",
    "#par rapport au leader\n",
    "df_ecart_position_leader_CACC = df_ecart_position_leader_CACC.drop(df_ecart_position_leader_CACC.columns[21], axis='columns')"
   ]
  },
  {
   "cell_type": "code",
   "execution_count": 21,
   "metadata": {},
   "outputs": [],
   "source": [
    "df_ecart_position_leader_CACC.columns = colonnes"
   ]
  },
  {
   "cell_type": "code",
   "execution_count": 22,
   "metadata": {},
   "outputs": [
    {
     "name": "stderr",
     "output_type": "stream",
     "text": [
      "No handles with labels found to put in legend.\n"
     ]
    },
    {
     "data": {
      "image/png": "[encoded data removed]",
      "text/plain": [
       "<Figure size 432x288 with 1 Axes>"
      ]
     },
     "metadata": {
      "needs_background": "light"
     },
     "output_type": "display_data"
    }
   ],
   "source": [
    "#tracé des temps de réponse par rapport au leader pour chacun des véhicules pour les enregistrements CACC\n",
    "#choix du follower\n",
    "fig = plt.figure()\n",
    "ax = fig.add_axes([0,0,1,1])\n",
    "for j in range(1, len(df_tps_reponse_leader_CACC.columns)):\n",
    "    ax.plot(df_ecart_position_leader_CACC['chgt{}'.format(j)], df_tps_reponse_leader_CACC['chgt{}'.format(j)], '^r', markersize = 2)\n",
    "for j in range(1, len(df_tps_reponse_leader_ACC.columns)):\n",
    "    ax.plot(df_ecart_position_leader_ACC['chgt{}'.format(j)], df_tps_reponse_leader_ACC['chgt{}'.format(j)], 'vb', markersize = 2)\n",
    "ax.set_xlabel(\"Ecart au leader (m)\")\n",
    "ax.xaxis.set_major_locator(MultipleLocator(50))\n",
    "ax.xaxis.set_minor_locator(MultipleLocator(10))\n",
    "ax.set_ylabel(\"Temps de réponse au leader (s)\")\n",
    "ax.set_title(\"Temps de réponse de chacun des véhicules en fonction de la distance du leader\")\n",
    "ax.legend(loc='best', frameon=False)\n",
    "plt.show()"
   ]
  },
  {
   "cell_type": "code",
   "execution_count": 38,
   "metadata": {},
   "outputs": [],
   "source": [
    "#par rapport au leader\n",
    "df_ecart_position_predec_CACC = pd.DataFrame()\n",
    "df_ecart_position_predec_CACC['F'] = np.arange(1, 5)\n",
    "df_ecart_position_predec_CACC = pd.concat([df_ecart_position_predec_CACC, df_ecart_position_predec_CACC_proof, df_ecart_position_predec_CARMA], axis = 1)"
   ]
  },
  {
   "cell_type": "code",
   "execution_count": 46,
   "metadata": {},
   "outputs": [],
   "source": [
    "df_distribution_CACC = pd.DataFrame()\n",
    "df_distribution_ACC = pd.DataFrame()\n",
    "\n",
    "df_distribution_CACC['temps'] = [-1.00]*(len(df_tps_reponse_leader_CACC.columns) - 1)*(len(df_tps_reponse_leader_CACC.F[1:]))\n",
    "df_distribution_ACC['temps'] = [-1.00]*(len(df_tps_reponse_leader_ACC.columns) - 1)*(len(df_tps_reponse_leader_ACC.follower))\n",
    "df_distribution_CACC['vitesse'] = [-1.00]*(len(df_vitesse_CACC.columns) - 1)*(len(df_vitesse_CACC.F[1:]))\n",
    "df_distribution_ACC['vitesse'] = [-1.00]*(len(df_vitesse_ACC.columns) - 1)*(len(df_vitesse_ACC.follower))\n",
    "df_distribution_CACC['ecart_position_leader'] = [-1.00]*(len(df_ecart_position_leader_CACC.columns) - 1)*(len(df_ecart_position_leader_CACC.F[1:]))\n",
    "df_distribution_ACC['ecart_position_leader'] = [-1.00]*(len(df_ecart_position_leader_ACC.columns) - 1)*(len(df_ecart_position_leader_ACC.follower))\n",
    "df_distribution_CACC['temps_predec'] = [-1.00]*(len(df_tps_reponse_predec_CACC.columns) - 1)*(len(df_tps_reponse_predec_CACC.F[1:]))\n",
    "df_distribution_ACC['temps_predec'] = [-1.00]*(len(df_tps_reponse_predec_ACC.columns) - 1)*(len(df_tps_reponse_predec_ACC.follower))\n",
    "df_distribution_CACC['ecart_position_predec'] = [-1.00]*(len(df_ecart_position_predec_CACC.columns) - 1)*(len(df_ecart_position_predec_CACC.F[1:]))\n",
    "df_distribution_ACC['ecart_position_predec'] = [-1.00]*(len(df_ecart_position_predec_ACC.columns) - 1)*(len(df_ecart_position_predec_ACC.follower))\n",
    "\n",
    "\n",
    "inc_cacc = 0\n",
    "for j in range(1, len(df_tps_reponse_leader_CACC.columns)):\n",
    "    #idem que précédemment, on raisonne sans prendre en compte le temps de réaction pur entre le leader et le f1\n",
    "    for f in range(len(df_tps_reponse_leader_CACC)):\n",
    "        df_distribution_CACC['temps'][inc_cacc] = df_tps_reponse_leader_CACC['chgt{}'.format(j)][f]\n",
    "        inc_cacc += 1\n",
    "        \n",
    "inc_acc = 0\n",
    "for j in range(1, len(df_tps_reponse_leader_ACC.columns)):\n",
    "    for f in range(len(df_tps_reponse_leader_ACC.follower)):\n",
    "        df_distribution_ACC['temps'][inc_acc] = df_tps_reponse_leader_ACC['chgt{}'.format(j)][f]\n",
    "        inc_acc += 1\n",
    "        \n",
    "inc_cacc = 0\n",
    "for j in range(1, len(df_tps_reponse_predec_CACC.columns)):\n",
    "    #idem que précédemment, on raisonne sans prendre en compte le temps de réaction pur entre le leader et le f1\n",
    "    for f in range(len(df_tps_reponse_predec_CACC.F)):\n",
    "        df_distribution_CACC['temps_predec'][inc_cacc] = df_tps_reponse_predec_CACC['chgt{}'.format(j)][f]\n",
    "        inc_cacc += 1\n",
    "        \n",
    "inc_acc = 0\n",
    "for j in range(1, len(df_tps_reponse_predec_ACC.columns)):\n",
    "    for f in range(len(df_tps_reponse_predec_ACC.follower)):\n",
    "        df_distribution_ACC['temps_predec'][inc_acc] = df_tps_reponse_predec_ACC['chgt{}'.format(j)][f]\n",
    "        inc_acc += 1\n",
    "        \n",
    "inc_cacc = 0\n",
    "for j in range(1, len(df_vitesse_CACC.columns)):\n",
    "    #idem que précédemment, on raisonne sans prendre en compte le temps de réaction pur entre le leader et le f1\n",
    "    for f in range(len(df_vitesse_CACC.F)):\n",
    "        df_distribution_CACC['vitesse'][inc_cacc] = df_vitesse_CACC['chgt{}'.format(j)][f]\n",
    "        inc_cacc += 1\n",
    "        \n",
    "inc_acc = 0\n",
    "for j in range(1, len(df_vitesse_ACC.columns)):\n",
    "    for f in range(len(df_vitesse_ACC.follower)):\n",
    "        df_distribution_ACC['vitesse'][inc_acc] = df_vitesse_ACC['chgt{}'.format(j)][f]\n",
    "        inc_acc += 1\n",
    "        \n",
    "inc_cacc = 0\n",
    "for j in range(1, len(df_ecart_position_leader_CACC.columns)):\n",
    "    #idem que précédemment, on raisonne sans prendre en compte le temps de réaction pur entre le leader et le f1\n",
    "    for f in range(len(df_ecart_position_leader_CACC.F)):\n",
    "        df_distribution_CACC['ecart_position_leader'][inc_cacc] = df_ecart_position_leader_CACC['chgt{}'.format(j)][f]\n",
    "        inc_cacc += 1\n",
    "        \n",
    "inc_acc = 0\n",
    "for j in range(1, len(df_ecart_position_leader_ACC.columns)):\n",
    "    for f in range(len(df_ecart_position_leader_ACC.follower)):\n",
    "        df_distribution_ACC['ecart_position_leader'][inc_acc] = df_ecart_position_leader_ACC['chgt{}'.format(j)][f]\n",
    "        inc_acc += 1\n",
    "        \n",
    "inc_cacc = 0\n",
    "for j in range(1, len(df_ecart_position_predec_CACC.columns)):\n",
    "    #idem que précédemment, on raisonne sans prendre en compte le temps de réaction pur entre le leader et le f1\n",
    "    for f in range(len(df_ecart_position_predec_CACC.F)):\n",
    "        df_distribution_CACC['ecart_position_predec'][inc_cacc] = df_ecart_position_predec_CACC['chgt{}'.format(j)][f]\n",
    "        inc_cacc += 1\n",
    "        \n",
    "inc_acc = 0\n",
    "for j in range(1, len(df_ecart_position_predec_ACC.columns)):\n",
    "    for f in range(len(df_ecart_position_predec_ACC.follower)):\n",
    "        df_distribution_ACC['ecart_position_predec'][inc_acc] = df_ecart_position_predec_ACC['chgt{}'.format(j)][f]\n",
    "        inc_acc += 1"
   ]
  },
  {
   "cell_type": "code",
   "execution_count": 48,
   "metadata": {},
   "outputs": [
    {
     "data": {
      "text/plain": [
       "132"
      ]
     },
     "execution_count": 48,
     "metadata": {},
     "output_type": "execute_result"
    }
   ],
   "source": [
    "len(df_distribution_CACC.ecart_position_predec)"
   ]
  },
  {
   "cell_type": "code",
   "execution_count": 49,
   "metadata": {},
   "outputs": [],
   "source": [
    "#suppression des 'NaN' pour la régression linéaire\n",
    "df_distribution_ACC = df_distribution_ACC[df_distribution_ACC.temps.isna() == False]\n",
    "df_distribution_ACC = df_distribution_ACC[df_distribution_ACC.temps_predec.isna() == False]"
   ]
  },
  {
   "cell_type": "code",
   "execution_count": 50,
   "metadata": {},
   "outputs": [],
   "source": [
    "df_distribution_ACC = df_distribution_ACC.reset_index(drop = True)"
   ]
  },
  {
   "cell_type": "code",
   "execution_count": 51,
   "metadata": {},
   "outputs": [],
   "source": [
    "#création de la variable qui à partir de deux listes crée une régression linéaire\n",
    "#fit = np.polyfit(df_distribution_CACC.ecart_position_leader, df_distribution_CACC.temps, 1)"
   ]
  },
  {
   "cell_type": "code",
   "execution_count": 52,
   "metadata": {},
   "outputs": [],
   "source": [
    "slope_CACC, intercept_CACC, r_value_CACC, p_value_CACC, std_err_CACC = stats.linregress(df_distribution_CACC.ecart_position_leader, df_distribution_CACC.temps)\n",
    "slope_ACC, intercept_ACC, r_value_ACC, p_value_ACC, std_err_ACC = stats.linregress(df_distribution_ACC.ecart_position_leader, df_distribution_ACC.temps)"
   ]
  },
  {
   "cell_type": "code",
   "execution_count": 53,
   "metadata": {},
   "outputs": [],
   "source": [
    "def predict_CACC(x):\n",
    "   return slope_CACC * x + intercept_CACC\n",
    "\n",
    "def predict_ACC(x):\n",
    "   return slope_ACC * x + intercept_ACC"
   ]
  },
  {
   "cell_type": "code",
   "execution_count": 54,
   "metadata": {},
   "outputs": [],
   "source": [
    "reg_CACC = predict_CACC(df_distribution_CACC.ecart_position_leader)\n",
    "#plt.plot(X, fitLine, c='r')\n",
    "\n",
    "reg_ACC = predict_ACC(df_distribution_ACC.ecart_position_leader)\n"
   ]
  },
  {
   "cell_type": "code",
   "execution_count": 55,
   "metadata": {},
   "outputs": [
    {
     "data": {
      "text/plain": [
       "0.01"
      ]
     },
     "execution_count": 55,
     "metadata": {},
     "output_type": "execute_result"
    }
   ],
   "source": [
    "round(slope_CACC,2)"
   ]
  },
  {
   "cell_type": "code",
   "execution_count": 56,
   "metadata": {},
   "outputs": [
    {
     "data": {
      "image/png": "[encoded data removed]",
      "text/plain": [
       "<Figure size 432x288 with 1 Axes>"
      ]
     },
     "metadata": {
      "needs_background": "light"
     },
     "output_type": "display_data"
    }
   ],
   "source": [
    "#tracé des temps de réponse par rapport au leader pour chacun des véhicules pour les enregistrements CACC\n",
    "#choix du follower\n",
    "fig = plt.figure()\n",
    "ax = fig.add_axes([0,0,1,1])\n",
    "for j in range(1, len(df_tps_reponse_leader_CACC.columns)):\n",
    "    ax.plot(df_ecart_position_leader_CACC['chgt{}'.format(j)], df_tps_reponse_leader_CACC['chgt{}'.format(j)], '^r', markersize = 2)\n",
    "for j in range(1, len(df_tps_reponse_leader_ACC.columns)):\n",
    "    ax.plot(df_ecart_position_leader_ACC['chgt{}'.format(j)], df_tps_reponse_leader_ACC['chgt{}'.format(j)], 'vb', markersize = 2)\n",
    "ax.plot(df_distribution_CACC.ecart_position_leader, reg_CACC, '-r', linewidth = 1, label = 'y = {}x + {}, R² = {}'.format(round(slope_CACC, 2), round(intercept_CACC, 2), round(r_value_CACC**2, 3)))\n",
    "ax.plot(df_distribution_ACC.ecart_position_leader, reg_ACC, '-b', linewidth = 1, label = 'y = {}x + {}, R² = {}'.format(round(slope_ACC, 2), round(intercept_ACC, 2), round(r_value_ACC**2, 3)))\n",
    "ax.set_xlabel(\"Ecart au leader (m)\")\n",
    "ax.xaxis.set_major_locator(MultipleLocator(10))\n",
    "ax.xaxis.set_minor_locator(MultipleLocator(5))\n",
    "ax.set_ylabel(\"Temps de réponse au leader (s)\")\n",
    "ax.set_title(\"Temps de réponse de chacun des véhicules en fonction de la distance du leader\")\n",
    "ax.legend(loc='best', frameon=False)\n",
    "plt.show()"
   ]
  },
  {
   "cell_type": "code",
   "execution_count": 57,
   "metadata": {},
   "outputs": [
    {
     "data": {
      "text/plain": [
       "(0.19459977164792264, 0.7434123446274535)"
      ]
     },
     "execution_count": 57,
     "metadata": {},
     "output_type": "execute_result"
    }
   ],
   "source": [
    "r_value_CACC, r_value_ACC"
   ]
  },
  {
   "cell_type": "code",
   "execution_count": 58,
   "metadata": {},
   "outputs": [
    {
     "data": {
      "text/plain": [
       "(162, 109)"
      ]
     },
     "execution_count": 58,
     "metadata": {},
     "output_type": "execute_result"
    }
   ],
   "source": [
    "max_ecart_CACC = np.int(np.max(df_distribution_CACC.ecart_position_leader))\n",
    "max_ecart_ACC = np.int(np.max(df_distribution_ACC.ecart_position_leader))\n",
    "max_ecart_CACC, max_ecart_ACC"
   ]
  },
  {
   "cell_type": "code",
   "execution_count": 59,
   "metadata": {},
   "outputs": [],
   "source": [
    "for i in range(max_ecart_CACC//20):\n",
    "    globals()['leader_liste_box_CACC{}'.format(i)] = list(df_distribution_CACC.temps[[20*i <= df_distribution_CACC.ecart_position_leader[k] <= 20*(i + 1) for k in range(len(df_distribution_CACC.temps))]])\n",
    "\n",
    "for i in range(max_ecart_ACC//20):\n",
    "    globals()['leader_liste_box_ACC{}'.format(i)] = list(df_distribution_ACC.temps[[20*i <= df_distribution_ACC.ecart_position_leader[k] <= 20*(i + 1) for k in range(len(df_distribution_ACC.temps))]])"
   ]
  },
  {
   "cell_type": "code",
   "execution_count": 60,
   "metadata": {},
   "outputs": [
    {
     "data": {
      "text/plain": [
       "[Text(3, 0, '0-20'),\n",
       " Text(10, 0, '20-40'),\n",
       " Text(17, 0, '40-60'),\n",
       " Text(24, 0, '60-80'),\n",
       " Text(31, 0, '80-100'),\n",
       " Text(38, 0, '100-120'),\n",
       " Text(45, 0, '120-140'),\n",
       " Text(52, 0, '140-160')]"
      ]
     },
     "execution_count": 60,
     "metadata": {},
     "output_type": "execute_result"
    },
    {
     "data": {
      "image/png": "[encoded data removed]",
      "text/plain": [
       "<Figure size 720x432 with 1 Axes>"
      ]
     },
     "metadata": {
      "needs_background": "light"
     },
     "output_type": "display_data"
    }
   ],
   "source": [
    "#boxplot\n",
    "fig = plt.figure(1, figsize = (10, 6))\n",
    "plt.boxplot([leader_liste_box_CACC0, leader_liste_box_CACC1, leader_liste_box_CACC2, leader_liste_box_CACC3, leader_liste_box_CACC4, leader_liste_box_CACC5, leader_liste_box_CACC6, leader_liste_box_CACC7], widths = [2, 2, 2, 2, 2, 2, 2, 2], positions = [3, 10, 17, 24, 31, 38, 45, 52])\n",
    "plt.xlabel(\"Tranches de distance au leader de 20 m\")\n",
    "plt.ylabel(\"Temps de réponse (s)\")\n",
    "plt.title(\"Boîtes à moustaches des temps de réponses au leader en fonction de l'écart au leader pour le mode CACC par tranches de 20 m\")\n",
    "plt.gca().xaxis.set_ticklabels(['0-20', '20-40', '40-60', '60-80', '80-100', '100-120', '120-140', '140-160'])"
   ]
  },
  {
   "cell_type": "code",
   "execution_count": 61,
   "metadata": {},
   "outputs": [
    {
     "data": {
      "text/plain": [
       "10"
      ]
     },
     "execution_count": 61,
     "metadata": {},
     "output_type": "execute_result"
    }
   ],
   "source": [
    "len(leader_liste_box_CACC6)"
   ]
  },
  {
   "cell_type": "code",
   "execution_count": 62,
   "metadata": {},
   "outputs": [
    {
     "data": {
      "text/plain": [
       "[Text(1, 0, '0-20'),\n",
       " Text(2, 0, '20-40'),\n",
       " Text(3, 0, '40-60'),\n",
       " Text(4, 0, '60-80'),\n",
       " Text(5, 0, '80-100')]"
      ]
     },
     "execution_count": 62,
     "metadata": {},
     "output_type": "execute_result"
    },
    {
     "data": {
      "image/png": "[encoded data removed]",
      "text/plain": [
       "<Figure size 432x288 with 1 Axes>"
      ]
     },
     "metadata": {
      "needs_background": "light"
     },
     "output_type": "display_data"
    }
   ],
   "source": [
    "#boxplot\n",
    "plt.boxplot([leader_liste_box_ACC0, leader_liste_box_ACC1, leader_liste_box_ACC2, leader_liste_box_ACC3, leader_liste_box_ACC4])\n",
    "plt.title(\"Boîtes à moustaches des temps de réponses en fonction de l'écart au leader pour le mode ACC par tranches de 20 m\")\n",
    "plt.xlabel(\"Tranches de distance au leader de 20 m\")\n",
    "plt.ylabel(\"Temps de réponse (s)\")\n",
    "plt.gca().xaxis.set_ticklabels(['0-20', '20-40', '40-60', '60-80', '80-100'])"
   ]
  },
  {
   "cell_type": "markdown",
   "metadata": {},
   "source": [
    "## Ecart au prédécesseur"
   ]
  },
  {
   "cell_type": "code",
   "execution_count": 40,
   "metadata": {},
   "outputs": [],
   "source": [
    "#par rapport au leader\n",
    "df_ecart_position_predec_CACC = pd.DataFrame()\n",
    "df_ecart_position_predec_CACC['F'] = np.arange(1, 5)\n",
    "df_ecart_position_predec_CACC = pd.concat([df_ecart_position_predec_CACC, df_ecart_position_predec_CACC_proof, df_ecart_position_predec_CARMA], axis = 1)"
   ]
  },
  {
   "cell_type": "code",
   "execution_count": 41,
   "metadata": {},
   "outputs": [
    {
     "data": {
      "text/html": [
       "<div>\n",
       "<style scoped>\n",
       "    .dataframe tbody tr th:only-of-type {\n",
       "        vertical-align: middle;\n",
       "    }\n",
       "\n",
       "    .dataframe tbody tr th {\n",
       "        vertical-align: top;\n",
       "    }\n",
       "\n",
       "    .dataframe thead th {\n",
       "        text-align: right;\n",
       "    }\n",
       "</style>\n",
       "<table border=\"1\" class=\"dataframe\">\n",
       "  <thead>\n",
       "    <tr style=\"text-align: right;\">\n",
       "      <th></th>\n",
       "      <th>F</th>\n",
       "      <th>follower</th>\n",
       "      <th>chgt1</th>\n",
       "      <th>chgt2</th>\n",
       "      <th>chgt3</th>\n",
       "      <th>chgt4</th>\n",
       "      <th>chgt5</th>\n",
       "      <th>chgt6</th>\n",
       "      <th>chgt7</th>\n",
       "      <th>chgt8</th>\n",
       "      <th>...</th>\n",
       "      <th>chgt5</th>\n",
       "      <th>chgt6</th>\n",
       "      <th>chgt7</th>\n",
       "      <th>chgt8</th>\n",
       "      <th>chgt9</th>\n",
       "      <th>chgt10</th>\n",
       "      <th>chgt11</th>\n",
       "      <th>chgt12</th>\n",
       "      <th>chgt13</th>\n",
       "      <th>chgt14</th>\n",
       "    </tr>\n",
       "  </thead>\n",
       "  <tbody>\n",
       "    <tr>\n",
       "      <th>0</th>\n",
       "      <td>1</td>\n",
       "      <td>1</td>\n",
       "      <td>33.0</td>\n",
       "      <td>22.0</td>\n",
       "      <td>33.0</td>\n",
       "      <td>3.0</td>\n",
       "      <td>33.0</td>\n",
       "      <td>23.0</td>\n",
       "      <td>33.0</td>\n",
       "      <td>1.0</td>\n",
       "      <td>...</td>\n",
       "      <td>4.375</td>\n",
       "      <td>21.125</td>\n",
       "      <td>28.500</td>\n",
       "      <td>21.500</td>\n",
       "      <td>5.00</td>\n",
       "      <td>13.375</td>\n",
       "      <td>20.375</td>\n",
       "      <td>7.750</td>\n",
       "      <td>21.625</td>\n",
       "      <td>24.500</td>\n",
       "    </tr>\n",
       "    <tr>\n",
       "      <th>1</th>\n",
       "      <td>2</td>\n",
       "      <td>2</td>\n",
       "      <td>33.0</td>\n",
       "      <td>23.0</td>\n",
       "      <td>33.0</td>\n",
       "      <td>2.0</td>\n",
       "      <td>35.0</td>\n",
       "      <td>23.0</td>\n",
       "      <td>33.0</td>\n",
       "      <td>2.0</td>\n",
       "      <td>...</td>\n",
       "      <td>8.125</td>\n",
       "      <td>20.625</td>\n",
       "      <td>28.375</td>\n",
       "      <td>19.500</td>\n",
       "      <td>4.00</td>\n",
       "      <td>13.125</td>\n",
       "      <td>16.875</td>\n",
       "      <td>7.875</td>\n",
       "      <td>45.375</td>\n",
       "      <td>62.250</td>\n",
       "    </tr>\n",
       "    <tr>\n",
       "      <th>2</th>\n",
       "      <td>3</td>\n",
       "      <td>3</td>\n",
       "      <td>33.0</td>\n",
       "      <td>23.0</td>\n",
       "      <td>33.0</td>\n",
       "      <td>3.0</td>\n",
       "      <td>34.0</td>\n",
       "      <td>23.0</td>\n",
       "      <td>33.0</td>\n",
       "      <td>3.0</td>\n",
       "      <td>...</td>\n",
       "      <td>0.000</td>\n",
       "      <td>0.000</td>\n",
       "      <td>0.000</td>\n",
       "      <td>0.000</td>\n",
       "      <td>3.25</td>\n",
       "      <td>13.000</td>\n",
       "      <td>18.125</td>\n",
       "      <td>17.500</td>\n",
       "      <td>28.500</td>\n",
       "      <td>39.375</td>\n",
       "    </tr>\n",
       "    <tr>\n",
       "      <th>3</th>\n",
       "      <td>4</td>\n",
       "      <td>4</td>\n",
       "      <td>35.0</td>\n",
       "      <td>22.0</td>\n",
       "      <td>33.0</td>\n",
       "      <td>2.0</td>\n",
       "      <td>33.0</td>\n",
       "      <td>23.0</td>\n",
       "      <td>30.0</td>\n",
       "      <td>4.0</td>\n",
       "      <td>...</td>\n",
       "      <td>10.750</td>\n",
       "      <td>22.125</td>\n",
       "      <td>31.125</td>\n",
       "      <td>21.375</td>\n",
       "      <td>9.25</td>\n",
       "      <td>13.875</td>\n",
       "      <td>18.500</td>\n",
       "      <td>7.125</td>\n",
       "      <td>36.750</td>\n",
       "      <td>56.750</td>\n",
       "    </tr>\n",
       "  </tbody>\n",
       "</table>\n",
       "<p>4 rows × 36 columns</p>\n",
       "</div>"
      ],
      "text/plain": [
       "   F  follower  chgt1  chgt2  chgt3  chgt4  chgt5  chgt6  chgt7  chgt8  ...  \\\n",
       "0  1         1   33.0   22.0   33.0    3.0   33.0   23.0   33.0    1.0  ...   \n",
       "1  2         2   33.0   23.0   33.0    2.0   35.0   23.0   33.0    2.0  ...   \n",
       "2  3         3   33.0   23.0   33.0    3.0   34.0   23.0   33.0    3.0  ...   \n",
       "3  4         4   35.0   22.0   33.0    2.0   33.0   23.0   30.0    4.0  ...   \n",
       "\n",
       "    chgt5   chgt6   chgt7   chgt8  chgt9  chgt10  chgt11  chgt12  chgt13  \\\n",
       "0   4.375  21.125  28.500  21.500   5.00  13.375  20.375   7.750  21.625   \n",
       "1   8.125  20.625  28.375  19.500   4.00  13.125  16.875   7.875  45.375   \n",
       "2   0.000   0.000   0.000   0.000   3.25  13.000  18.125  17.500  28.500   \n",
       "3  10.750  22.125  31.125  21.375   9.25  13.875  18.500   7.125  36.750   \n",
       "\n",
       "   chgt14  \n",
       "0  24.500  \n",
       "1  62.250  \n",
       "2  39.375  \n",
       "3  56.750  \n",
       "\n",
       "[4 rows x 36 columns]"
      ]
     },
     "execution_count": 41,
     "metadata": {},
     "output_type": "execute_result"
    }
   ],
   "source": [
    "df_ecart_position_predec_CACC"
   ]
  },
  {
   "cell_type": "code",
   "execution_count": 42,
   "metadata": {},
   "outputs": [],
   "source": [
    "#suppression de la colonne 'follower' répétée\n",
    "#par rapport au leader\n",
    "df_ecart_position_predec_CACC = df_ecart_position_predec_CACC.drop(df_ecart_position_predec_CACC.columns[21], axis='columns')"
   ]
  },
  {
   "cell_type": "code",
   "execution_count": 43,
   "metadata": {},
   "outputs": [],
   "source": [
    "df_ecart_position_predec_CACC.columns = colonnes"
   ]
  },
  {
   "cell_type": "code",
   "execution_count": 44,
   "metadata": {},
   "outputs": [
    {
     "data": {
      "text/html": [
       "<div>\n",
       "<style scoped>\n",
       "    .dataframe tbody tr th:only-of-type {\n",
       "        vertical-align: middle;\n",
       "    }\n",
       "\n",
       "    .dataframe tbody tr th {\n",
       "        vertical-align: top;\n",
       "    }\n",
       "\n",
       "    .dataframe thead th {\n",
       "        text-align: right;\n",
       "    }\n",
       "</style>\n",
       "<table border=\"1\" class=\"dataframe\">\n",
       "  <thead>\n",
       "    <tr style=\"text-align: right;\">\n",
       "      <th></th>\n",
       "      <th>F</th>\n",
       "      <th>chgt1</th>\n",
       "      <th>chgt2</th>\n",
       "      <th>chgt3</th>\n",
       "      <th>chgt4</th>\n",
       "      <th>chgt5</th>\n",
       "      <th>chgt6</th>\n",
       "      <th>chgt7</th>\n",
       "      <th>chgt8</th>\n",
       "      <th>chgt9</th>\n",
       "      <th>...</th>\n",
       "      <th>chgt24</th>\n",
       "      <th>chgt25</th>\n",
       "      <th>chgt26</th>\n",
       "      <th>chgt27</th>\n",
       "      <th>chgt28</th>\n",
       "      <th>chgt29</th>\n",
       "      <th>chgt30</th>\n",
       "      <th>chgt31</th>\n",
       "      <th>chgt32</th>\n",
       "      <th>chgt33</th>\n",
       "    </tr>\n",
       "  </thead>\n",
       "  <tbody>\n",
       "    <tr>\n",
       "      <th>0</th>\n",
       "      <td>1</td>\n",
       "      <td>0.40</td>\n",
       "      <td>0.65</td>\n",
       "      <td>0.30</td>\n",
       "      <td>1.75</td>\n",
       "      <td>0.05</td>\n",
       "      <td>0.10</td>\n",
       "      <td>0.05</td>\n",
       "      <td>1.75</td>\n",
       "      <td>0.30</td>\n",
       "      <td>...</td>\n",
       "      <td>0.1</td>\n",
       "      <td>0.4</td>\n",
       "      <td>0.4</td>\n",
       "      <td>0.3</td>\n",
       "      <td>0.3</td>\n",
       "      <td>0.6</td>\n",
       "      <td>0.5</td>\n",
       "      <td>1.4</td>\n",
       "      <td>1.5</td>\n",
       "      <td>1.1</td>\n",
       "    </tr>\n",
       "    <tr>\n",
       "      <th>1</th>\n",
       "      <td>2</td>\n",
       "      <td>2.75</td>\n",
       "      <td>-0.20</td>\n",
       "      <td>0.00</td>\n",
       "      <td>0.65</td>\n",
       "      <td>1.60</td>\n",
       "      <td>-0.05</td>\n",
       "      <td>0.05</td>\n",
       "      <td>1.95</td>\n",
       "      <td>0.25</td>\n",
       "      <td>...</td>\n",
       "      <td>0.0</td>\n",
       "      <td>0.2</td>\n",
       "      <td>-0.1</td>\n",
       "      <td>0.0</td>\n",
       "      <td>1.6</td>\n",
       "      <td>0.0</td>\n",
       "      <td>0.1</td>\n",
       "      <td>2.2</td>\n",
       "      <td>2.4</td>\n",
       "      <td>2.5</td>\n",
       "    </tr>\n",
       "    <tr>\n",
       "      <th>2</th>\n",
       "      <td>3</td>\n",
       "      <td>4.60</td>\n",
       "      <td>1.30</td>\n",
       "      <td>1.60</td>\n",
       "      <td>2.90</td>\n",
       "      <td>1.55</td>\n",
       "      <td>0.20</td>\n",
       "      <td>0.15</td>\n",
       "      <td>0.80</td>\n",
       "      <td>3.65</td>\n",
       "      <td>...</td>\n",
       "      <td>0.9</td>\n",
       "      <td>-0.5</td>\n",
       "      <td>-0.2</td>\n",
       "      <td>-0.2</td>\n",
       "      <td>1.7</td>\n",
       "      <td>0.0</td>\n",
       "      <td>-0.2</td>\n",
       "      <td>-0.4</td>\n",
       "      <td>1.5</td>\n",
       "      <td>1.7</td>\n",
       "    </tr>\n",
       "    <tr>\n",
       "      <th>3</th>\n",
       "      <td>4</td>\n",
       "      <td>-2.95</td>\n",
       "      <td>-1.00</td>\n",
       "      <td>-1.35</td>\n",
       "      <td>1.50</td>\n",
       "      <td>3.65</td>\n",
       "      <td>0.15</td>\n",
       "      <td>4.55</td>\n",
       "      <td>1.50</td>\n",
       "      <td>2.45</td>\n",
       "      <td>...</td>\n",
       "      <td>-0.2</td>\n",
       "      <td>0.5</td>\n",
       "      <td>0.2</td>\n",
       "      <td>0.1</td>\n",
       "      <td>1.5</td>\n",
       "      <td>0.1</td>\n",
       "      <td>-0.1</td>\n",
       "      <td>2.5</td>\n",
       "      <td>2.3</td>\n",
       "      <td>2.3</td>\n",
       "    </tr>\n",
       "  </tbody>\n",
       "</table>\n",
       "<p>4 rows × 34 columns</p>\n",
       "</div>"
      ],
      "text/plain": [
       "   F  chgt1  chgt2  chgt3  chgt4  chgt5  chgt6  chgt7  chgt8  chgt9  ...  \\\n",
       "0  1   0.40   0.65   0.30   1.75   0.05   0.10   0.05   1.75   0.30  ...   \n",
       "1  2   2.75  -0.20   0.00   0.65   1.60  -0.05   0.05   1.95   0.25  ...   \n",
       "2  3   4.60   1.30   1.60   2.90   1.55   0.20   0.15   0.80   3.65  ...   \n",
       "3  4  -2.95  -1.00  -1.35   1.50   3.65   0.15   4.55   1.50   2.45  ...   \n",
       "\n",
       "   chgt24  chgt25  chgt26  chgt27  chgt28  chgt29  chgt30  chgt31  chgt32  \\\n",
       "0     0.1     0.4     0.4     0.3     0.3     0.6     0.5     1.4     1.5   \n",
       "1     0.0     0.2    -0.1     0.0     1.6     0.0     0.1     2.2     2.4   \n",
       "2     0.9    -0.5    -0.2    -0.2     1.7     0.0    -0.2    -0.4     1.5   \n",
       "3    -0.2     0.5     0.2     0.1     1.5     0.1    -0.1     2.5     2.3   \n",
       "\n",
       "   chgt33  \n",
       "0     1.1  \n",
       "1     2.5  \n",
       "2     1.7  \n",
       "3     2.3  \n",
       "\n",
       "[4 rows x 34 columns]"
      ]
     },
     "execution_count": 44,
     "metadata": {},
     "output_type": "execute_result"
    }
   ],
   "source": [
    "df_tps_reponse_predec_CACC"
   ]
  },
  {
   "cell_type": "code",
   "execution_count": 45,
   "metadata": {},
   "outputs": [
    {
     "data": {
      "text/html": [
       "<div>\n",
       "<style scoped>\n",
       "    .dataframe tbody tr th:only-of-type {\n",
       "        vertical-align: middle;\n",
       "    }\n",
       "\n",
       "    .dataframe tbody tr th {\n",
       "        vertical-align: top;\n",
       "    }\n",
       "\n",
       "    .dataframe thead th {\n",
       "        text-align: right;\n",
       "    }\n",
       "</style>\n",
       "<table border=\"1\" class=\"dataframe\">\n",
       "  <thead>\n",
       "    <tr style=\"text-align: right;\">\n",
       "      <th></th>\n",
       "      <th>F</th>\n",
       "      <th>chgt1</th>\n",
       "      <th>chgt2</th>\n",
       "      <th>chgt3</th>\n",
       "      <th>chgt4</th>\n",
       "      <th>chgt5</th>\n",
       "      <th>chgt6</th>\n",
       "      <th>chgt7</th>\n",
       "      <th>chgt8</th>\n",
       "      <th>chgt9</th>\n",
       "      <th>...</th>\n",
       "      <th>chgt24</th>\n",
       "      <th>chgt25</th>\n",
       "      <th>chgt26</th>\n",
       "      <th>chgt27</th>\n",
       "      <th>chgt28</th>\n",
       "      <th>chgt29</th>\n",
       "      <th>chgt30</th>\n",
       "      <th>chgt31</th>\n",
       "      <th>chgt32</th>\n",
       "      <th>chgt33</th>\n",
       "    </tr>\n",
       "  </thead>\n",
       "  <tbody>\n",
       "    <tr>\n",
       "      <th>0</th>\n",
       "      <td>1</td>\n",
       "      <td>33.0</td>\n",
       "      <td>22.0</td>\n",
       "      <td>33.0</td>\n",
       "      <td>3.0</td>\n",
       "      <td>33.0</td>\n",
       "      <td>23.0</td>\n",
       "      <td>33.0</td>\n",
       "      <td>1.0</td>\n",
       "      <td>33.0</td>\n",
       "      <td>...</td>\n",
       "      <td>4.375</td>\n",
       "      <td>21.125</td>\n",
       "      <td>28.500</td>\n",
       "      <td>21.500</td>\n",
       "      <td>5.00</td>\n",
       "      <td>13.375</td>\n",
       "      <td>20.375</td>\n",
       "      <td>7.750</td>\n",
       "      <td>21.625</td>\n",
       "      <td>24.500</td>\n",
       "    </tr>\n",
       "    <tr>\n",
       "      <th>1</th>\n",
       "      <td>2</td>\n",
       "      <td>33.0</td>\n",
       "      <td>23.0</td>\n",
       "      <td>33.0</td>\n",
       "      <td>2.0</td>\n",
       "      <td>35.0</td>\n",
       "      <td>23.0</td>\n",
       "      <td>33.0</td>\n",
       "      <td>2.0</td>\n",
       "      <td>33.0</td>\n",
       "      <td>...</td>\n",
       "      <td>8.125</td>\n",
       "      <td>20.625</td>\n",
       "      <td>28.375</td>\n",
       "      <td>19.500</td>\n",
       "      <td>4.00</td>\n",
       "      <td>13.125</td>\n",
       "      <td>16.875</td>\n",
       "      <td>7.875</td>\n",
       "      <td>45.375</td>\n",
       "      <td>62.250</td>\n",
       "    </tr>\n",
       "    <tr>\n",
       "      <th>2</th>\n",
       "      <td>3</td>\n",
       "      <td>33.0</td>\n",
       "      <td>23.0</td>\n",
       "      <td>33.0</td>\n",
       "      <td>3.0</td>\n",
       "      <td>34.0</td>\n",
       "      <td>23.0</td>\n",
       "      <td>33.0</td>\n",
       "      <td>3.0</td>\n",
       "      <td>32.0</td>\n",
       "      <td>...</td>\n",
       "      <td>0.000</td>\n",
       "      <td>0.000</td>\n",
       "      <td>0.000</td>\n",
       "      <td>0.000</td>\n",
       "      <td>3.25</td>\n",
       "      <td>13.000</td>\n",
       "      <td>18.125</td>\n",
       "      <td>17.500</td>\n",
       "      <td>28.500</td>\n",
       "      <td>39.375</td>\n",
       "    </tr>\n",
       "    <tr>\n",
       "      <th>3</th>\n",
       "      <td>4</td>\n",
       "      <td>35.0</td>\n",
       "      <td>22.0</td>\n",
       "      <td>33.0</td>\n",
       "      <td>2.0</td>\n",
       "      <td>33.0</td>\n",
       "      <td>23.0</td>\n",
       "      <td>30.0</td>\n",
       "      <td>4.0</td>\n",
       "      <td>32.0</td>\n",
       "      <td>...</td>\n",
       "      <td>10.750</td>\n",
       "      <td>22.125</td>\n",
       "      <td>31.125</td>\n",
       "      <td>21.375</td>\n",
       "      <td>9.25</td>\n",
       "      <td>13.875</td>\n",
       "      <td>18.500</td>\n",
       "      <td>7.125</td>\n",
       "      <td>36.750</td>\n",
       "      <td>56.750</td>\n",
       "    </tr>\n",
       "  </tbody>\n",
       "</table>\n",
       "<p>4 rows × 34 columns</p>\n",
       "</div>"
      ],
      "text/plain": [
       "   F  chgt1  chgt2  chgt3  chgt4  chgt5  chgt6  chgt7  chgt8  chgt9  ...  \\\n",
       "0  1   33.0   22.0   33.0    3.0   33.0   23.0   33.0    1.0   33.0  ...   \n",
       "1  2   33.0   23.0   33.0    2.0   35.0   23.0   33.0    2.0   33.0  ...   \n",
       "2  3   33.0   23.0   33.0    3.0   34.0   23.0   33.0    3.0   32.0  ...   \n",
       "3  4   35.0   22.0   33.0    2.0   33.0   23.0   30.0    4.0   32.0  ...   \n",
       "\n",
       "   chgt24  chgt25  chgt26  chgt27  chgt28  chgt29  chgt30  chgt31  chgt32  \\\n",
       "0   4.375  21.125  28.500  21.500    5.00  13.375  20.375   7.750  21.625   \n",
       "1   8.125  20.625  28.375  19.500    4.00  13.125  16.875   7.875  45.375   \n",
       "2   0.000   0.000   0.000   0.000    3.25  13.000  18.125  17.500  28.500   \n",
       "3  10.750  22.125  31.125  21.375    9.25  13.875  18.500   7.125  36.750   \n",
       "\n",
       "   chgt33  \n",
       "0  24.500  \n",
       "1  62.250  \n",
       "2  39.375  \n",
       "3  56.750  \n",
       "\n",
       "[4 rows x 34 columns]"
      ]
     },
     "execution_count": 45,
     "metadata": {},
     "output_type": "execute_result"
    }
   ],
   "source": [
    "df_ecart_position_predec_CACC"
   ]
  },
  {
   "cell_type": "code",
   "execution_count": 63,
   "metadata": {},
   "outputs": [
    {
     "name": "stderr",
     "output_type": "stream",
     "text": [
      "No handles with labels found to put in legend.\n"
     ]
    },
    {
     "data": {
      "image/png": "[encoded data removed]",
      "text/plain": [
       "<Figure size 432x288 with 1 Axes>"
      ]
     },
     "metadata": {
      "needs_background": "light"
     },
     "output_type": "display_data"
    }
   ],
   "source": [
    "#tracé des temps de réponse par rapport au leader pour chacun des véhicules pour les enregistrements CACC\n",
    "#choix du follower\n",
    "fig = plt.figure()\n",
    "ax = fig.add_axes([0,0,1,1])\n",
    "for j in range(1, len(df_tps_reponse_predec_CACC.columns)):\n",
    "    ax.plot(df_ecart_position_predec_CACC['chgt{}'.format(j)][1:], df_tps_reponse_predec_CACC['chgt{}'.format(j)][1:], '^r', markersize = 2)\n",
    "for j in range(1, len(df_tps_reponse_predec_ACC.columns)):\n",
    "    ax.plot(df_ecart_position_predec_ACC['chgt{}'.format(j)][1:], df_tps_reponse_predec_ACC['chgt{}'.format(j)][1:], 'vb', markersize = 2)\n",
    "ax.set_xlabel(\"Ecart au prédécesseur (m)\")\n",
    "ax.xaxis.set_major_locator(MultipleLocator(5))\n",
    "ax.xaxis.set_minor_locator(MultipleLocator(0.5))\n",
    "ax.set_ylabel(\"Temps de réponse au prédécesseur (s)\")\n",
    "ax.set_title(\"Temps de réponse de chacun des véhicules en fonction de la distanceau prédécesseur\")\n",
    "ax.legend(loc='best', frameon=False)\n",
    "plt.show()"
   ]
  },
  {
   "cell_type": "code",
   "execution_count": 64,
   "metadata": {},
   "outputs": [
    {
     "data": {
      "text/html": [
       "<div>\n",
       "<style scoped>\n",
       "    .dataframe tbody tr th:only-of-type {\n",
       "        vertical-align: middle;\n",
       "    }\n",
       "\n",
       "    .dataframe tbody tr th {\n",
       "        vertical-align: top;\n",
       "    }\n",
       "\n",
       "    .dataframe thead th {\n",
       "        text-align: right;\n",
       "    }\n",
       "</style>\n",
       "<table border=\"1\" class=\"dataframe\">\n",
       "  <thead>\n",
       "    <tr style=\"text-align: right;\">\n",
       "      <th></th>\n",
       "      <th>follower</th>\n",
       "      <th>chgt1</th>\n",
       "      <th>chgt2</th>\n",
       "      <th>chgt3</th>\n",
       "      <th>chgt4</th>\n",
       "      <th>chgt5</th>\n",
       "      <th>chgt6</th>\n",
       "      <th>chgt7</th>\n",
       "      <th>chgt8</th>\n",
       "      <th>chgt9</th>\n",
       "      <th>...</th>\n",
       "      <th>chgt14</th>\n",
       "      <th>chgt15</th>\n",
       "      <th>chgt16</th>\n",
       "      <th>chgt17</th>\n",
       "      <th>chgt18</th>\n",
       "      <th>chgt19</th>\n",
       "      <th>chgt20</th>\n",
       "      <th>chgt21</th>\n",
       "      <th>chgt22</th>\n",
       "      <th>chgt23</th>\n",
       "    </tr>\n",
       "  </thead>\n",
       "  <tbody>\n",
       "    <tr>\n",
       "      <th>0</th>\n",
       "      <td>1</td>\n",
       "      <td>9.0</td>\n",
       "      <td>26.0</td>\n",
       "      <td>3.0</td>\n",
       "      <td>28.0</td>\n",
       "      <td>20.0</td>\n",
       "      <td>29.0</td>\n",
       "      <td>20.0</td>\n",
       "      <td>26.0</td>\n",
       "      <td>17.0</td>\n",
       "      <td>...</td>\n",
       "      <td>27.0</td>\n",
       "      <td>27.0</td>\n",
       "      <td>NaN</td>\n",
       "      <td>NaN</td>\n",
       "      <td>27.0</td>\n",
       "      <td>22.0</td>\n",
       "      <td>27.0</td>\n",
       "      <td>21.0</td>\n",
       "      <td>27.0</td>\n",
       "      <td>21.0</td>\n",
       "    </tr>\n",
       "    <tr>\n",
       "      <th>1</th>\n",
       "      <td>2</td>\n",
       "      <td>4.0</td>\n",
       "      <td>26.0</td>\n",
       "      <td>3.0</td>\n",
       "      <td>25.0</td>\n",
       "      <td>20.0</td>\n",
       "      <td>23.0</td>\n",
       "      <td>21.0</td>\n",
       "      <td>26.0</td>\n",
       "      <td>18.0</td>\n",
       "      <td>...</td>\n",
       "      <td>24.0</td>\n",
       "      <td>NaN</td>\n",
       "      <td>26.0</td>\n",
       "      <td>21.0</td>\n",
       "      <td>26.0</td>\n",
       "      <td>23.0</td>\n",
       "      <td>27.0</td>\n",
       "      <td>22.0</td>\n",
       "      <td>NaN</td>\n",
       "      <td>NaN</td>\n",
       "    </tr>\n",
       "    <tr>\n",
       "      <th>2</th>\n",
       "      <td>3</td>\n",
       "      <td>3.0</td>\n",
       "      <td>26.0</td>\n",
       "      <td>2.0</td>\n",
       "      <td>22.0</td>\n",
       "      <td>20.0</td>\n",
       "      <td>23.0</td>\n",
       "      <td>20.0</td>\n",
       "      <td>22.0</td>\n",
       "      <td>18.0</td>\n",
       "      <td>...</td>\n",
       "      <td>26.0</td>\n",
       "      <td>25.0</td>\n",
       "      <td>26.0</td>\n",
       "      <td>21.0</td>\n",
       "      <td>26.0</td>\n",
       "      <td>21.0</td>\n",
       "      <td>NaN</td>\n",
       "      <td>NaN</td>\n",
       "      <td>26.0</td>\n",
       "      <td>22.0</td>\n",
       "    </tr>\n",
       "    <tr>\n",
       "      <th>3</th>\n",
       "      <td>4</td>\n",
       "      <td>3.0</td>\n",
       "      <td>26.0</td>\n",
       "      <td>17.0</td>\n",
       "      <td>25.0</td>\n",
       "      <td>18.0</td>\n",
       "      <td>25.0</td>\n",
       "      <td>19.0</td>\n",
       "      <td>23.0</td>\n",
       "      <td>17.0</td>\n",
       "      <td>...</td>\n",
       "      <td>26.0</td>\n",
       "      <td>25.0</td>\n",
       "      <td>25.0</td>\n",
       "      <td>21.0</td>\n",
       "      <td>NaN</td>\n",
       "      <td>NaN</td>\n",
       "      <td>26.0</td>\n",
       "      <td>21.0</td>\n",
       "      <td>25.0</td>\n",
       "      <td>23.0</td>\n",
       "    </tr>\n",
       "  </tbody>\n",
       "</table>\n",
       "<p>4 rows × 24 columns</p>\n",
       "</div>"
      ],
      "text/plain": [
       "   follower  chgt1  chgt2  chgt3  chgt4  chgt5  chgt6  chgt7  chgt8  chgt9  \\\n",
       "0         1    9.0   26.0    3.0   28.0   20.0   29.0   20.0   26.0   17.0   \n",
       "1         2    4.0   26.0    3.0   25.0   20.0   23.0   21.0   26.0   18.0   \n",
       "2         3    3.0   26.0    2.0   22.0   20.0   23.0   20.0   22.0   18.0   \n",
       "3         4    3.0   26.0   17.0   25.0   18.0   25.0   19.0   23.0   17.0   \n",
       "\n",
       "   ...  chgt14  chgt15  chgt16  chgt17  chgt18  chgt19  chgt20  chgt21  \\\n",
       "0  ...    27.0    27.0     NaN     NaN    27.0    22.0    27.0    21.0   \n",
       "1  ...    24.0     NaN    26.0    21.0    26.0    23.0    27.0    22.0   \n",
       "2  ...    26.0    25.0    26.0    21.0    26.0    21.0     NaN     NaN   \n",
       "3  ...    26.0    25.0    25.0    21.0     NaN     NaN    26.0    21.0   \n",
       "\n",
       "   chgt22  chgt23  \n",
       "0    27.0    21.0  \n",
       "1     NaN     NaN  \n",
       "2    26.0    22.0  \n",
       "3    25.0    23.0  \n",
       "\n",
       "[4 rows x 24 columns]"
      ]
     },
     "execution_count": 64,
     "metadata": {},
     "output_type": "execute_result"
    }
   ],
   "source": [
    "df_ecart_position_predec_ACC"
   ]
  },
  {
   "cell_type": "code",
   "execution_count": 65,
   "metadata": {},
   "outputs": [
    {
     "data": {
      "text/plain": [
       "(62, 29)"
      ]
     },
     "execution_count": 65,
     "metadata": {},
     "output_type": "execute_result"
    }
   ],
   "source": [
    "predec_max_ecart_CACC = np.int(np.max(df_distribution_CACC.ecart_position_predec))\n",
    "predec_max_ecart_ACC = np.int(np.max(df_distribution_ACC.ecart_position_predec))\n",
    "predec_max_ecart_CACC, predec_max_ecart_ACC"
   ]
  },
  {
   "cell_type": "code",
   "execution_count": 66,
   "metadata": {},
   "outputs": [],
   "source": [
    "for i in range(predec_max_ecart_CACC//10 + 1):\n",
    "    globals()['predec_liste_box_CACC{}'.format(i)] = list(df_distribution_CACC.temps_predec[[10*i <= df_distribution_CACC.ecart_position_predec[k] <= 10*(i + 1) for k in range(len(df_distribution_CACC.ecart_position_predec))]])\n",
    "\n",
    "for i in range(predec_max_ecart_ACC//10 + 1):\n",
    "    globals()['predec_liste_box_ACC{}'.format(i)] = list(df_distribution_ACC.temps_predec[[10*i <= df_distribution_ACC.ecart_position_predec[k] <= 10*(i + 1) for k in range(len(df_distribution_ACC.ecart_position_predec))]])"
   ]
  },
  {
   "cell_type": "code",
   "execution_count": 67,
   "metadata": {},
   "outputs": [
    {
     "data": {
      "text/plain": [
       "[Text(3, 0, '0-10'),\n",
       " Text(10, 0, '10-20'),\n",
       " Text(17, 0, '20-30'),\n",
       " Text(24, 0, '30-40'),\n",
       " Text(31, 0, '40-50'),\n",
       " Text(38, 0, '50-60'),\n",
       " Text(45, 0, '60-70')]"
      ]
     },
     "execution_count": 67,
     "metadata": {},
     "output_type": "execute_result"
    },
    {
     "data": {
      "image/png": "[encoded data removed]",
      "text/plain": [
       "<Figure size 720x432 with 1 Axes>"
      ]
     },
     "metadata": {
      "needs_background": "light"
     },
     "output_type": "display_data"
    }
   ],
   "source": [
    "#boxplot\n",
    "fig = plt.figure(1, figsize = (10, 6))\n",
    "plt.boxplot([predec_liste_box_CACC0, predec_liste_box_CACC1, predec_liste_box_CACC2, predec_liste_box_CACC3, predec_liste_box_CACC4, predec_liste_box_CACC5, predec_liste_box_CACC6], widths = [2, 2, 2, 2, 2, 2, 2], positions = [3, 10, 17, 24, 31, 38, 45])\n",
    "plt.title(\"Boîtes à moustaches des temps au prédécesseur de réponses en fonction de l'écart au prédécesseur pour le mode CACC par tranches de 20 m\")\n",
    "plt.xlabel(\"Tranches de distance au prédécesseur de 10 m\")\n",
    "plt.ylabel(\"Temps de réponse (s)\")\n",
    "plt.gca().xaxis.set_ticklabels(['0-10', '10-20', '20-30', '30-40', '40-50', '50-60', '60-70'])"
   ]
  },
  {
   "cell_type": "code",
   "execution_count": 68,
   "metadata": {},
   "outputs": [
    {
     "data": {
      "text/plain": [
       "44"
      ]
     },
     "execution_count": 68,
     "metadata": {},
     "output_type": "execute_result"
    }
   ],
   "source": [
    "len(predec_liste_box_CACC3)"
   ]
  },
  {
   "cell_type": "code",
   "execution_count": 69,
   "metadata": {},
   "outputs": [
    {
     "data": {
      "text/plain": [
       "[Text(1, 0, '0-10'), Text(2, 0, '10-20'), Text(3, 0, '20-30')]"
      ]
     },
     "execution_count": 69,
     "metadata": {},
     "output_type": "execute_result"
    },
    {
     "data": {
      "image/png": "[encoded data removed]",
      "text/plain": [
       "<Figure size 432x288 with 1 Axes>"
      ]
     },
     "metadata": {
      "needs_background": "light"
     },
     "output_type": "display_data"
    }
   ],
   "source": [
    "#boxplot\n",
    "plt.boxplot([predec_liste_box_ACC0, predec_liste_box_ACC1, predec_liste_box_ACC2])\n",
    "plt.title(\"Boîtes à moustaches des temps de réponses au prédécesseur en fonction de l'écart au prédécesseur pour le mode ACC par tranches de 20 m\")\n",
    "plt.xlabel(\"Tranches de distance au prédécesseur de 10 m\")\n",
    "plt.ylabel(\"Temps de réponse (s)\")\n",
    "plt.gca().xaxis.set_ticklabels(['0-10', '10-20', '20-30'])"
   ]
  },
  {
   "cell_type": "code",
   "execution_count": 70,
   "metadata": {},
   "outputs": [
    {
     "data": {
      "text/html": [
       "<div>\n",
       "<style scoped>\n",
       "    .dataframe tbody tr th:only-of-type {\n",
       "        vertical-align: middle;\n",
       "    }\n",
       "\n",
       "    .dataframe tbody tr th {\n",
       "        vertical-align: top;\n",
       "    }\n",
       "\n",
       "    .dataframe thead th {\n",
       "        text-align: right;\n",
       "    }\n",
       "</style>\n",
       "<table border=\"1\" class=\"dataframe\">\n",
       "  <thead>\n",
       "    <tr style=\"text-align: right;\">\n",
       "      <th></th>\n",
       "      <th>temps</th>\n",
       "      <th>vitesse</th>\n",
       "      <th>ecart_position_leader</th>\n",
       "      <th>temps_predec</th>\n",
       "      <th>ecart_position_predec</th>\n",
       "    </tr>\n",
       "  </thead>\n",
       "  <tbody>\n",
       "    <tr>\n",
       "      <th>0</th>\n",
       "      <td>0.40</td>\n",
       "      <td>26.340</td>\n",
       "      <td>33.000</td>\n",
       "      <td>0.40</td>\n",
       "      <td>33.000</td>\n",
       "    </tr>\n",
       "    <tr>\n",
       "      <th>1</th>\n",
       "      <td>3.15</td>\n",
       "      <td>26.340</td>\n",
       "      <td>66.000</td>\n",
       "      <td>2.75</td>\n",
       "      <td>33.000</td>\n",
       "    </tr>\n",
       "    <tr>\n",
       "      <th>2</th>\n",
       "      <td>7.75</td>\n",
       "      <td>26.340</td>\n",
       "      <td>93.000</td>\n",
       "      <td>4.60</td>\n",
       "      <td>33.000</td>\n",
       "    </tr>\n",
       "    <tr>\n",
       "      <th>3</th>\n",
       "      <td>4.80</td>\n",
       "      <td>26.340</td>\n",
       "      <td>135.000</td>\n",
       "      <td>-2.95</td>\n",
       "      <td>35.000</td>\n",
       "    </tr>\n",
       "    <tr>\n",
       "      <th>4</th>\n",
       "      <td>0.65</td>\n",
       "      <td>19.760</td>\n",
       "      <td>22.000</td>\n",
       "      <td>0.65</td>\n",
       "      <td>22.000</td>\n",
       "    </tr>\n",
       "    <tr>\n",
       "      <th>...</th>\n",
       "      <td>...</td>\n",
       "      <td>...</td>\n",
       "      <td>...</td>\n",
       "      <td>...</td>\n",
       "      <td>...</td>\n",
       "    </tr>\n",
       "    <tr>\n",
       "      <th>94</th>\n",
       "      <td>1.00</td>\n",
       "      <td>0.001</td>\n",
       "      <td>14.000</td>\n",
       "      <td>0.90</td>\n",
       "      <td>0.000</td>\n",
       "    </tr>\n",
       "    <tr>\n",
       "      <th>95</th>\n",
       "      <td>0.80</td>\n",
       "      <td>0.001</td>\n",
       "      <td>24.250</td>\n",
       "      <td>-0.20</td>\n",
       "      <td>10.750</td>\n",
       "    </tr>\n",
       "    <tr>\n",
       "      <th>96</th>\n",
       "      <td>0.40</td>\n",
       "      <td>20.056</td>\n",
       "      <td>21.125</td>\n",
       "      <td>0.40</td>\n",
       "      <td>21.125</td>\n",
       "    </tr>\n",
       "    <tr>\n",
       "      <th>97</th>\n",
       "      <td>0.60</td>\n",
       "      <td>20.056</td>\n",
       "      <td>41.750</td>\n",
       "      <td>0.20</td>\n",
       "      <td>20.625</td>\n",
       "    </tr>\n",
       "    <tr>\n",
       "      <th>98</th>\n",
       "      <td>0.10</td>\n",
       "      <td>20.056</td>\n",
       "      <td>41.750</td>\n",
       "      <td>-0.50</td>\n",
       "      <td>0.000</td>\n",
       "    </tr>\n",
       "  </tbody>\n",
       "</table>\n",
       "<p>99 rows × 5 columns</p>\n",
       "</div>"
      ],
      "text/plain": [
       "    temps  vitesse  ecart_position_leader  temps_predec  ecart_position_predec\n",
       "0    0.40   26.340                 33.000          0.40                 33.000\n",
       "1    3.15   26.340                 66.000          2.75                 33.000\n",
       "2    7.75   26.340                 93.000          4.60                 33.000\n",
       "3    4.80   26.340                135.000         -2.95                 35.000\n",
       "4    0.65   19.760                 22.000          0.65                 22.000\n",
       "..    ...      ...                    ...           ...                    ...\n",
       "94   1.00    0.001                 14.000          0.90                  0.000\n",
       "95   0.80    0.001                 24.250         -0.20                 10.750\n",
       "96   0.40   20.056                 21.125          0.40                 21.125\n",
       "97   0.60   20.056                 41.750          0.20                 20.625\n",
       "98   0.10   20.056                 41.750         -0.50                  0.000\n",
       "\n",
       "[99 rows x 5 columns]"
      ]
     },
     "execution_count": 70,
     "metadata": {},
     "output_type": "execute_result"
    }
   ],
   "source": [
    "df_distribution_CACC"
   ]
  },
  {
   "cell_type": "code",
   "execution_count": 73,
   "metadata": {},
   "outputs": [],
   "source": [
    "df_distribution_CACC.to_csv('df_distribution_CACC.csv', index = False)\n",
    "df_distribution_ACC.to_csv('df_distribution_ACC.csv', index = False)\n"
   ]
  },
  {
   "cell_type": "code",
   "execution_count": null,
   "metadata": {},
   "outputs": [],
   "source": []
  }
 ],
 "metadata": {
  "kernelspec": {
   "display_name": "Transport Findings",
   "language": "python",
   "name": "ccac"
  },
  "language_info": {
   "codemirror_mode": {
    "name": "ipython",
    "version": 3
   },
   "file_extension": ".py",
   "mimetype": "text/x-python",
   "name": "python",
   "nbconvert_exporter": "python",
   "pygments_lexer": "ipython3",
   "version": "3.7.9"
  }
 },
 "nbformat": 4,
 "nbformat_minor": 4
}
