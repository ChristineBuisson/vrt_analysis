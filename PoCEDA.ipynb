{
 "cells": [
  {
   "cell_type": "markdown",
   "metadata": {},
   "source": [
    "# Exploratory Data Analysis - PoC Data"
   ]
  },
  {
   "cell_type": "markdown",
   "metadata": {},
   "source": [
    "This loads the class `DataHandler` which is a class that should be able to process data comming either from `PoC` or `CARMA`"
   ]
  },
  {
   "cell_type": "code",
   "execution_count": 1,
   "metadata": {},
   "outputs": [],
   "source": [
    "from collector.handler import DataHandler"
   ]
  },
  {
   "cell_type": "markdown",
   "metadata": {},
   "source": [
    "In particular we consider one of the `CARMA` datasets"
   ]
  },
  {
   "cell_type": "code",
   "execution_count": 2,
   "metadata": {},
   "outputs": [],
   "source": [
    "# csv path \n",
    "csvpath = 'data/raw/poc/data28_mieux.csv'\n",
    "experiment = DataHandler(csvpath)"
   ]
  },
  {
   "cell_type": "markdown",
   "metadata": {},
   "source": [
    "After passing the path towards the file we execute the method `compute_response_times` which is responsible for loading, cleaning, and computing the corresponding times "
   ]
  },
  {
   "cell_type": "code",
   "execution_count": 3,
   "metadata": {},
   "outputs": [
    {
     "name": "stdout",
     "output_type": "stream",
     "text": [
      "Standarizing data\n",
      "Cleaning data\n",
      "Computing Statistics\n",
      "Computing transition times\n",
      "Treating case: data28_mieux\n"
     ]
    }
   ],
   "source": [
    "experiment.compute_response_times()"
   ]
  },
  {
   "cell_type": "code",
   "execution_count": 5,
   "metadata": {},
   "outputs": [
    {
     "data": {
      "text/html": [
       "<div>\n",
       "<style scoped>\n",
       "    .dataframe tbody tr th:only-of-type {\n",
       "        vertical-align: middle;\n",
       "    }\n",
       "\n",
       "    .dataframe tbody tr th {\n",
       "        vertical-align: top;\n",
       "    }\n",
       "\n",
       "    .dataframe thead th {\n",
       "        text-align: right;\n",
       "    }\n",
       "</style>\n",
       "<table border=\"1\" class=\"dataframe\">\n",
       "  <thead>\n",
       "    <tr style=\"text-align: right;\">\n",
       "      <th></th>\n",
       "      <th>vehid</th>\n",
       "      <th>value</th>\n",
       "    </tr>\n",
       "  </thead>\n",
       "  <tbody>\n",
       "    <tr>\n",
       "      <th>0</th>\n",
       "      <td>0</td>\n",
       "      <td>0.05</td>\n",
       "    </tr>\n",
       "    <tr>\n",
       "      <th>1</th>\n",
       "      <td>0</td>\n",
       "      <td>0.05</td>\n",
       "    </tr>\n",
       "    <tr>\n",
       "      <th>2</th>\n",
       "      <td>0</td>\n",
       "      <td>0.05</td>\n",
       "    </tr>\n",
       "    <tr>\n",
       "      <th>3</th>\n",
       "      <td>0</td>\n",
       "      <td>0.05</td>\n",
       "    </tr>\n",
       "    <tr>\n",
       "      <th>4</th>\n",
       "      <td>0</td>\n",
       "      <td>0.05</td>\n",
       "    </tr>\n",
       "    <tr>\n",
       "      <th>5</th>\n",
       "      <td>0</td>\n",
       "      <td>0.05</td>\n",
       "    </tr>\n",
       "    <tr>\n",
       "      <th>6</th>\n",
       "      <td>0</td>\n",
       "      <td>0.05</td>\n",
       "    </tr>\n",
       "    <tr>\n",
       "      <th>7</th>\n",
       "      <td>0</td>\n",
       "      <td>0.05</td>\n",
       "    </tr>\n",
       "    <tr>\n",
       "      <th>8</th>\n",
       "      <td>0</td>\n",
       "      <td>0.05</td>\n",
       "    </tr>\n",
       "    <tr>\n",
       "      <th>9</th>\n",
       "      <td>0</td>\n",
       "      <td>0.05</td>\n",
       "    </tr>\n",
       "    <tr>\n",
       "      <th>10</th>\n",
       "      <td>0</td>\n",
       "      <td>0.05</td>\n",
       "    </tr>\n",
       "    <tr>\n",
       "      <th>11</th>\n",
       "      <td>0</td>\n",
       "      <td>0.05</td>\n",
       "    </tr>\n",
       "    <tr>\n",
       "      <th>25</th>\n",
       "      <td>1</td>\n",
       "      <td>0.05</td>\n",
       "    </tr>\n",
       "  </tbody>\n",
       "</table>\n",
       "</div>"
      ],
      "text/plain": [
       "    vehid  value\n",
       "0       0   0.05\n",
       "1       0   0.05\n",
       "2       0   0.05\n",
       "3       0   0.05\n",
       "4       0   0.05\n",
       "5       0   0.05\n",
       "6       0   0.05\n",
       "7       0   0.05\n",
       "8       0   0.05\n",
       "9       0   0.05\n",
       "10      0   0.05\n",
       "11      0   0.05\n",
       "25      1   0.05"
      ]
     },
     "execution_count": 5,
     "metadata": {},
     "output_type": "execute_result"
    }
   ],
   "source": [
    "experiment._transitiontimes"
   ]
  },
  {
   "cell_type": "markdown",
   "metadata": {},
   "source": [
    "**As it can be seen there is one error in the computation with the PoC data, things to verify.** \n",
    "1. **Are the columns the right ones?**\n",
    "2. **is the data correctly imported/ cleaned?**\n",
    "\n",
    "**Note**: This code should be usable after fixing the errors in the computation, it is left as raw before final review"
   ]
  },
  {
   "cell_type": "raw",
   "metadata": {},
   "source": [
    "# Time between vehicle i-1 and vehicle i\n",
    "experiment._compute_leader_follower_times()"
   ]
  },
  {
   "cell_type": "raw",
   "metadata": {},
   "source": [
    "# Time between vehicle 1 and vehicle i\n",
    "experiment._compute_head_follower_times()"
   ]
  },
  {
   "cell_type": "markdown",
   "metadata": {},
   "source": [
    "## Explore the whole amount of files \n",
    "\n",
    "In this case we are going to process all data from `CARMA`"
   ]
  },
  {
   "cell_type": "raw",
   "metadata": {},
   "source": [
    "from glob import glob\n",
    "\n",
    "filenames = glob('data/raw/carma/*.csv')\n",
    "filenames"
   ]
  },
  {
   "cell_type": "raw",
   "metadata": {},
   "source": [
    "experiments = [DataHandler(file) for file in filenames]"
   ]
  },
  {
   "cell_type": "markdown",
   "metadata": {},
   "source": [
    "We can now compute the transition times, detection of response times in each vehicle"
   ]
  },
  {
   "cell_type": "raw",
   "metadata": {},
   "source": [
    "[e.compute_response_times() for e in experiments];"
   ]
  },
  {
   "cell_type": "markdown",
   "metadata": {},
   "source": [
    "Let's compute the leader follower response times "
   ]
  },
  {
   "cell_type": "raw",
   "metadata": {},
   "source": [
    "import pandas as pd\n",
    "\n",
    "rtlf= [lf._compute_leader_follower_times() for lf in experiments]\n",
    "rtlf = pd.concat(rtlf)"
   ]
  },
  {
   "cell_type": "markdown",
   "metadata": {},
   "source": [
    "This represents the response time between the leader `i-1` and the follower `i`"
   ]
  },
  {
   "cell_type": "raw",
   "metadata": {},
   "source": [
    "rtlf.head()"
   ]
  },
  {
   "cell_type": "raw",
   "metadata": {},
   "source": [
    "a = rtlf.boxplot();\n",
    "a.set_xlabel('Platoon position $i$');\n",
    "a.set_ylabel('Response time $i-1,i$');"
   ]
  },
  {
   "cell_type": "raw",
   "metadata": {},
   "source": [
    "rt0f= [lf._compute_head_follower_times() for lf in experiments]\n",
    "rt0f = pd.concat(rt0f)"
   ]
  },
  {
   "cell_type": "markdown",
   "metadata": {},
   "source": [
    "This represents the time between vehicle `0` and vehicle `i`"
   ]
  },
  {
   "cell_type": "raw",
   "metadata": {},
   "source": [
    "a = rt0f.boxplot();\n",
    "a.set_xlabel('Platoon position $i$');\n",
    "a.set_ylabel('Response time $0,i$');"
   ]
  },
  {
   "cell_type": "markdown",
   "metadata": {},
   "source": [
    "A. Ladino"
   ]
  }
 ],
 "metadata": {
  "kernelspec": {
   "display_name": "Transport Findings",
   "language": "python",
   "name": "ccac"
  },
  "language_info": {
   "codemirror_mode": {
    "name": "ipython",
    "version": 3
   },
   "file_extension": ".py",
   "mimetype": "text/x-python",
   "name": "python",
   "nbconvert_exporter": "python",
   "pygments_lexer": "ipython3",
   "version": "3.7.9"
  }
 },
 "nbformat": 4,
 "nbformat_minor": 4
}
