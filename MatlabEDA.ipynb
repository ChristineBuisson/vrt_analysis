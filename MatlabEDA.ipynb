{
 "cells": [
  {
   "cell_type": "markdown",
   "metadata": {},
   "source": [
    "# Exploratory Data Analysis "
   ]
  },
  {
   "cell_type": "markdown",
   "metadata": {},
   "source": [
    "In order to explore this data set a module in the collector has been created, the idea of the module is to be able to collect store and analyze data properly, to import the module just add the `colector` path to the current `sys.path`"
   ]
  },
  {
   "cell_type": "code",
   "execution_count": 1,
   "metadata": {},
   "outputs": [],
   "source": [
    "%matplotlib inline\n",
    "import sys \n",
    "sys.path.append('collector')\n",
    "\n",
    "from collector.matlab import GetData\n"
   ]
  },
  {
   "cell_type": "markdown",
   "metadata": {},
   "source": [
    "In case you want to obtain more details on the class and its methods "
   ]
  },
  {
   "cell_type": "code",
   "execution_count": 2,
   "metadata": {},
   "outputs": [],
   "source": [
    "# GetData??"
   ]
  },
  {
   "cell_type": "markdown",
   "metadata": {},
   "source": [
    "For usage, provide a `matlab` path and initialize the class with the corresponding path: "
   ]
  },
  {
   "cell_type": "code",
   "execution_count": 3,
   "metadata": {},
   "outputs": [],
   "source": [
    "# Matlab path \n",
    "matlab_path = 'data/raw/mat/session_4_D_2018-09-03.mat'\n",
    "veh = GetData(matlab_path)"
   ]
  },
  {
   "cell_type": "markdown",
   "metadata": {},
   "source": [
    "Check available vehicles"
   ]
  },
  {
   "cell_type": "code",
   "execution_count": 4,
   "metadata": {},
   "outputs": [
    {
     "data": {
      "text/plain": [
       "('Prius1', 'Prius4', 'Prius7')"
      ]
     },
     "execution_count": 4,
     "metadata": {},
     "output_type": "execute_result"
    }
   ],
   "source": [
    "veh.vehicle_names"
   ]
  },
  {
   "cell_type": "markdown",
   "metadata": {},
   "source": [
    "Load data of one of the vehicles via the `transform_vehicle_data` method, this will format data into a DataFrame"
   ]
  },
  {
   "cell_type": "code",
   "execution_count": 5,
   "metadata": {},
   "outputs": [],
   "source": [
    "# Get vehicle from vehicle \n",
    "\n",
    "veh.transform_data_vehicle('Prius1')"
   ]
  },
  {
   "cell_type": "markdown",
   "metadata": {},
   "source": [
    "Check all the available subsets as the one indicated in the `Logset_Description.xlsx` file:"
   ]
  },
  {
   "cell_type": "code",
   "execution_count": 6,
   "metadata": {},
   "outputs": [
    {
     "data": {
      "text/plain": [
       "('Ublox_GPS_driver_fix',\n",
       " 'Ublox_GPS_driver_fix_velocity',\n",
       " 'base_link_accel',\n",
       " 'vehicle_gear',\n",
       " 'vehicle_odom',\n",
       " 'vehicle_pedals',\n",
       " 'vehicle_steering_wheel',\n",
       " 'world_model_front_target',\n",
       " 'vehicle_hmi',\n",
       " 'vehicle_ControllerState',\n",
       " 'APU')"
      ]
     },
     "execution_count": 6,
     "metadata": {},
     "output_type": "execute_result"
    }
   ],
   "source": [
    "veh.datakeys"
   ]
  },
  {
   "cell_type": "markdown",
   "metadata": {},
   "source": [
    "You may query each one of the properties directly as follows: "
   ]
  },
  {
   "cell_type": "code",
   "execution_count": 7,
   "metadata": {},
   "outputs": [
    {
     "data": {
      "text/html": [
       "<div>\n",
       "<style scoped>\n",
       "    .dataframe tbody tr th:only-of-type {\n",
       "        vertical-align: middle;\n",
       "    }\n",
       "\n",
       "    .dataframe tbody tr th {\n",
       "        vertical-align: top;\n",
       "    }\n",
       "\n",
       "    .dataframe thead th {\n",
       "        text-align: right;\n",
       "    }\n",
       "</style>\n",
       "<table border=\"1\" class=\"dataframe\">\n",
       "  <thead>\n",
       "    <tr style=\"text-align: right;\">\n",
       "      <th></th>\n",
       "      <th>time</th>\n",
       "      <th>latitude</th>\n",
       "      <th>longitude</th>\n",
       "    </tr>\n",
       "  </thead>\n",
       "  <tbody>\n",
       "    <tr>\n",
       "      <th>0</th>\n",
       "      <td>2018-09-03 17:51:48.207000</td>\n",
       "      <td>52.366409</td>\n",
       "      <td>4.700660</td>\n",
       "    </tr>\n",
       "    <tr>\n",
       "      <th>1</th>\n",
       "      <td>2018-09-03 17:51:48.448515</td>\n",
       "      <td>52.366436</td>\n",
       "      <td>4.700699</td>\n",
       "    </tr>\n",
       "    <tr>\n",
       "      <th>2</th>\n",
       "      <td>2018-09-03 17:51:48.464891</td>\n",
       "      <td>52.366463</td>\n",
       "      <td>4.700738</td>\n",
       "    </tr>\n",
       "    <tr>\n",
       "      <th>3</th>\n",
       "      <td>2018-09-03 17:51:48.450619</td>\n",
       "      <td>52.366490</td>\n",
       "      <td>4.700776</td>\n",
       "    </tr>\n",
       "    <tr>\n",
       "      <th>4</th>\n",
       "      <td>2018-09-03 17:51:48.468762</td>\n",
       "      <td>52.366516</td>\n",
       "      <td>4.700815</td>\n",
       "    </tr>\n",
       "    <tr>\n",
       "      <th>...</th>\n",
       "      <td>...</td>\n",
       "      <td>...</td>\n",
       "      <td>...</td>\n",
       "    </tr>\n",
       "    <tr>\n",
       "      <th>5209</th>\n",
       "      <td>2018-09-03 17:51:48.462022</td>\n",
       "      <td>52.367871</td>\n",
       "      <td>4.704871</td>\n",
       "    </tr>\n",
       "    <tr>\n",
       "      <th>5210</th>\n",
       "      <td>2018-09-03 17:51:48.459751</td>\n",
       "      <td>52.367889</td>\n",
       "      <td>4.704820</td>\n",
       "    </tr>\n",
       "    <tr>\n",
       "      <th>5211</th>\n",
       "      <td>2018-09-03 17:51:48.472907</td>\n",
       "      <td>52.367908</td>\n",
       "      <td>4.704770</td>\n",
       "    </tr>\n",
       "    <tr>\n",
       "      <th>5212</th>\n",
       "      <td>2018-09-03 17:51:48.432921</td>\n",
       "      <td>52.367929</td>\n",
       "      <td>4.704722</td>\n",
       "    </tr>\n",
       "    <tr>\n",
       "      <th>5213</th>\n",
       "      <td>2018-09-03 17:51:48.465798</td>\n",
       "      <td>52.367952</td>\n",
       "      <td>4.704675</td>\n",
       "    </tr>\n",
       "  </tbody>\n",
       "</table>\n",
       "<p>5214 rows × 3 columns</p>\n",
       "</div>"
      ],
      "text/plain": [
       "                           time   latitude  longitude\n",
       "0    2018-09-03 17:51:48.207000  52.366409   4.700660\n",
       "1    2018-09-03 17:51:48.448515  52.366436   4.700699\n",
       "2    2018-09-03 17:51:48.464891  52.366463   4.700738\n",
       "3    2018-09-03 17:51:48.450619  52.366490   4.700776\n",
       "4    2018-09-03 17:51:48.468762  52.366516   4.700815\n",
       "...                         ...        ...        ...\n",
       "5209 2018-09-03 17:51:48.462022  52.367871   4.704871\n",
       "5210 2018-09-03 17:51:48.459751  52.367889   4.704820\n",
       "5211 2018-09-03 17:51:48.472907  52.367908   4.704770\n",
       "5212 2018-09-03 17:51:48.432921  52.367929   4.704722\n",
       "5213 2018-09-03 17:51:48.465798  52.367952   4.704675\n",
       "\n",
       "[5214 rows x 3 columns]"
      ]
     },
     "execution_count": 7,
     "metadata": {},
     "output_type": "execute_result"
    }
   ],
   "source": [
    "veh.Ublox_GPS_driver_fix"
   ]
  },
  {
   "cell_type": "markdown",
   "metadata": {},
   "source": [
    "Feel free to plot and play 😃"
   ]
  },
  {
   "cell_type": "code",
   "execution_count": 8,
   "metadata": {},
   "outputs": [
    {
     "data": {
      "image/png": "[encoded data removed]",
      "text/plain": [
       "<Figure size 432x288 with 1 Axes>"
      ]
     },
     "metadata": {
      "needs_background": "light"
     },
     "output_type": "display_data"
    }
   ],
   "source": [
    "veh.Ublox_GPS_driver_fix.plot(x='longitude',y='latitude');"
   ]
  }
 ],
 "metadata": {
  "kernelspec": {
   "display_name": "Transport Findings",
   "language": "python",
   "name": "cacc"
  },
  "language_info": {
   "codemirror_mode": {
    "name": "ipython",
    "version": 3
   },
   "file_extension": ".py",
   "mimetype": "text/x-python",
   "name": "python",
   "nbconvert_exporter": "python",
   "pygments_lexer": "ipython3",
   "version": "3.8.5"
  }
 },
 "nbformat": 4,
 "nbformat_minor": 4
}
